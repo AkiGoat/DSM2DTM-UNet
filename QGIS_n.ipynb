{
 "cells": [
  {
   "cell_type": "code",
   "execution_count": 1,
   "metadata": {},
   "outputs": [],
   "source": [
    "# qgis library imports\n",
    "import PyQt5.QtCore\n",
    "import qgis.PyQt.QtCore\n",
    "from qgis.core import *\n",
    "import qgis.utils\n",
    "# other imports\n",
    "import json\n",
    "import pandas as pd\n"
   ]
  },
  {
   "cell_type": "code",
   "execution_count": 2,
   "metadata": {},
   "outputs": [
    {
     "name": "stderr",
     "output_type": "stream",
     "text": [
      "/var/folders/27/h_7vpkws2fv5rbk0s3x_xc440000gn/T/ipykernel_7595/2766837003.py:2: ResourceWarning: unclosed file <_io.TextIOWrapper name='/Users/hyde-mbp/paras/qgis_env.json' mode='r' encoding='UTF-8'>\n",
      "  js = json.loads(open(qepath, 'r').read())\n",
      "ResourceWarning: Enable tracemalloc to get the object allocation traceback\n",
      "ERROR 1: MrSID driver was compiled against GDAL 3.2, but the current library version is 3.3\n",
      "ERROR 1: ECW driver was compiled against GDAL 3.2, but the current library version is 3.3\n",
      "ERROR 1: JP2ECW driver was compiled against GDAL 3.2, but the current library version is 3.3\n",
      "ERROR 1: MG4Lidar driver was compiled against GDAL 3.2, but the current library version is 3.3\n"
     ]
    }
   ],
   "source": [
    "qepath = '/Users/hyde-mbp/paras/qgis_env.json'\n",
    "js = json.loads(open(qepath, 'r').read())\n",
    "\n",
    "QgsApplication.setPrefixPath(js['HOME'], True)\n",
    "qgs = QgsApplication([], False)\n",
    "qgs.initQgis()\n"
   ]
  },
  {
   "cell_type": "code",
   "execution_count": 9,
   "metadata": {},
   "outputs": [],
   "source": [
    "for alg in qgs.processingRegistry().algorithms():\n",
    "    print(alg.id(), \"->\", alg.displayName())\n"
   ]
  }
 ],
 "metadata": {
  "kernelspec": {
   "display_name": "Python 3.9.5 64-bit",
   "language": "python",
   "name": "python3"
  },
  "language_info": {
   "codemirror_mode": {
    "name": "ipython",
    "version": 3
   },
   "file_extension": ".py",
   "mimetype": "text/x-python",
   "name": "python",
   "nbconvert_exporter": "python",
   "pygments_lexer": "ipython3",
   "version": "3.9.5"
  },
  "orig_nbformat": 4,
  "vscode": {
   "interpreter": {
    "hash": "75198705271186115f65b97ae859adde87cade5a90ca2d71f9cc5f20307d8f67"
   }
  }
 },
 "nbformat": 4,
 "nbformat_minor": 2
}
