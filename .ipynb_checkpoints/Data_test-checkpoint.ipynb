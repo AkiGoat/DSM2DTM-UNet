{
 "cells": [
  {
   "cell_type": "code",
   "execution_count": 92,
   "id": "6836fe18",
   "metadata": {},
   "outputs": [],
   "source": [
    "import numpy as np\n",
    "from scipy import interpolate\n",
    "import matplotlib.pyplot as plt\n",
    "from osgeo import gdal\n",
    "import pandas as pd\n",
    "from sklearn.model_selection import train_test_split\n",
    "import torch\n",
    "import torchvision"
   ]
  },
  {
   "cell_type": "code",
   "execution_count": 53,
   "id": "b865e8cf",
   "metadata": {},
   "outputs": [],
   "source": [
    "file_path = '/Volumes/SamDick/Grad Project/Data/ANH4/'\n",
    "ndv = 3.4028230607371e+38"
   ]
  },
  {
   "cell_type": "code",
   "execution_count": 16,
   "id": "d88ad24e",
   "metadata": {},
   "outputs": [],
   "source": [
    "data_r = gdal.Open(file_path + 'R5_30GN1.TIF', gdal.GA_ReadOnly)\n",
    "# print(data_r.RasterCount)  1\n",
    "band_r = data_r.GetRasterBand(1)\n",
    "band_r.SetNoDataValue(ndv)\n",
    "# no data value -> 3.4028235e+38\n",
    "ele_r = band_r.ReadAsArray()"
   ]
  },
  {
   "cell_type": "code",
   "execution_count": 17,
   "id": "93c5fa76",
   "metadata": {},
   "outputs": [
    {
     "data": {
      "text/plain": [
       "array([[3.4028235e+38, 3.4028235e+38, 3.4028235e+38, ..., 1.1236674e+01,\n",
       "        1.0711415e+01, 9.8517370e+00],\n",
       "       [3.4028235e+38, 3.4028235e+38, 3.4028235e+38, ..., 1.0525715e+01,\n",
       "        9.7522516e+00, 9.2790194e+00],\n",
       "       [3.4028235e+38, 3.4028235e+38, 3.4028235e+38, ..., 9.6854563e+00,\n",
       "        9.2926826e+00, 9.3133039e+00],\n",
       "       ...,\n",
       "       [4.3631248e+00, 7.6907830e+00, 1.2573595e+01, ..., 5.7247901e-01,\n",
       "        6.2167001e-01, 1.7750000e+00],\n",
       "       [5.7190042e+00, 7.0998278e+00, 1.6244764e+01, ..., 1.1711349e+00,\n",
       "        6.3913500e-01, 9.4258702e-01],\n",
       "       [7.2218151e+00, 1.2524461e+01, 1.8087730e+01, ..., 1.1704609e+00,\n",
       "        5.0506300e-01, 1.2686500e-01]], dtype=float32)"
      ]
     },
     "execution_count": 17,
     "metadata": {},
     "output_type": "execute_result"
    }
   ],
   "source": [
    "ele_r"
   ]
  },
  {
   "cell_type": "code",
   "execution_count": 27,
   "id": "2c69a919",
   "metadata": {},
   "outputs": [],
   "source": [
    "def pad_with(vector, pad_width, iaxis, kwargs):\n",
    "    pad_value = kwargs.get('padder', 10)\n",
    "    vector[:pad_width[0]] = pad_value\n",
    "    vector[-pad_width[1]:] = pad_value"
   ]
  },
  {
   "cell_type": "code",
   "execution_count": 28,
   "id": "1d188142",
   "metadata": {},
   "outputs": [],
   "source": [
    "padded_ele_r = np.pad(ele_r, 2, pad_with, padder=100000)"
   ]
  },
  {
   "cell_type": "code",
   "execution_count": 57,
   "id": "e9714b0a",
   "metadata": {},
   "outputs": [],
   "source": [
    "masked_pad = np.ma.masked_where(padded_ele_r > 10000, padded_ele_r)"
   ]
  },
  {
   "cell_type": "code",
   "execution_count": 58,
   "id": "2a7c9e12",
   "metadata": {},
   "outputs": [],
   "source": [
    "x_ = np.arange(0, padded_ele_r.shape[1])\n",
    "y_ = np.arange(0, padded_ele_r.shape[0])\n",
    "\n",
    "xx, yy = np.meshgrid(x_, y_)\n",
    "#get only the valid values\n",
    "x1 = xx[~masked_pad.mask]\n",
    "y1 = yy[~masked_pad.mask]\n",
    "newarr = masked_pad[~masked_pad.mask]\n",
    "\n",
    "GD1 = interpolate.griddata((x1, y1), newarr.ravel(), (xx, yy), method='nearest')"
   ]
  },
  {
   "cell_type": "code",
   "execution_count": 59,
   "id": "8f6322d0",
   "metadata": {},
   "outputs": [
    {
     "data": {
      "text/plain": [
       "array([[1.2550926, 1.2550926, 1.2550926, ..., 9.851737 , 9.851737 ,\n",
       "        9.851737 ],\n",
       "       [1.2550926, 1.2550926, 1.2550926, ..., 9.851737 , 9.851737 ,\n",
       "        9.851737 ],\n",
       "       [1.2437732, 1.2437732, 1.2550926, ..., 9.851737 , 9.851737 ,\n",
       "        9.851737 ],\n",
       "       ...,\n",
       "       [7.221815 , 7.221815 , 7.221815 , ..., 0.126865 , 0.126865 ,\n",
       "        0.126865 ],\n",
       "       [7.221815 , 7.221815 , 7.221815 , ..., 0.126865 , 0.126865 ,\n",
       "        0.126865 ],\n",
       "       [7.221815 , 7.221815 , 7.221815 , ..., 0.126865 , 0.126865 ,\n",
       "        0.126865 ]], dtype=float32)"
      ]
     },
     "execution_count": 59,
     "metadata": {},
     "output_type": "execute_result"
    }
   ],
   "source": [
    "GD1"
   ]
  },
  {
   "cell_type": "code",
   "execution_count": 54,
   "id": "c862f753",
   "metadata": {},
   "outputs": [],
   "source": [
    "data_m = gdal.Open(file_path + 'M5_30GN1.TIF', gdal.GA_ReadOnly)\n",
    "# print(data_r.RasterCount)  1\n",
    "band_m = data_m.GetRasterBand(1)\n",
    "band_m.SetNoDataValue(ndv)\n",
    "# no data value -> 3.4028235e+38\n",
    "ele_m = band_m.ReadAsArray()"
   ]
  },
  {
   "cell_type": "code",
   "execution_count": 67,
   "id": "bbf9ce60",
   "metadata": {},
   "outputs": [],
   "source": [
    "masked_r = np.ma.masked_where(ele_r < 10000, ele_r)\n",
    "masked_m = np.ma.masked_where(ele_m < 10000, ele_m)"
   ]
  },
  {
   "cell_type": "code",
   "execution_count": 84,
   "id": "ea2a30e1",
   "metadata": {
    "scrolled": true
   },
   "outputs": [
    {
     "name": "stdout",
     "output_type": "stream",
     "text": [
      "1080624 1080624\n"
     ]
    }
   ],
   "source": [
    "data_list = []\n",
    "label_list = []\n",
    "for i in range(ele_r.shape[0]):\n",
    "    for j in range(ele_r.shape[1]):\n",
    "        if masked_r.mask[i][j] == True:\n",
    "            pixel = [GD1[i][j], GD1[i][j+1], GD1[i][j+2], GD1[i+1][j], GD1[i+1][j+1], GD1[i+1][j+2], GD1[i+2][j], GD1[i+2][j+1], GD1[i+2][j+2]]\n",
    "            data_list.append(pixel)\n",
    "            if masked_m.mask[i][j] == True:\n",
    "                label_list.append(int(0))\n",
    "            else:\n",
    "                label_list.append(int(1))"
   ]
  },
  {
   "cell_type": "code",
   "execution_count": 90,
   "id": "d7e92a71",
   "metadata": {},
   "outputs": [],
   "source": [
    "data_train, data_test, label_train, label_test = train_test_split(data_list, label_list)\n",
    "mean_train = np.mean(np.array(data_train))\n",
    "std_train = np.std(np.array(data_train))\n",
    "mean_test = np.mean(np.array(data_test))\n",
    "std_test = np.std(np.array(data_test))"
   ]
  },
  {
   "cell_type": "code",
   "execution_count": 94,
   "id": "ba1b0e41",
   "metadata": {
    "scrolled": true
   },
   "outputs": [],
   "source": [
    "transform_train = torchvision.transforms.Compose([\n",
    "    torchvision.transforms.ToTensor(),\n",
    "    torchvision.transforms.Normalize(\n",
    "        mean=[mean_train],\n",
    "        std=[std_train],\n",
    "    ),\n",
    "])\n",
    "\n",
    "transform_test = torchvision.transforms.Compose([\n",
    "    torchvision.transforms.ToTensor(),\n",
    "    torchvision.transforms.Normalize(\n",
    "        mean=[mean_test],\n",
    "        std=[std_test],\n",
    "    ),\n",
    "])\n",
    "\n",
    "# output[channel] = (input[channel] - mean[channel]) / std[channel]"
   ]
  },
  {
   "cell_type": "code",
   "execution_count": 115,
   "id": "7935e6ec",
   "metadata": {},
   "outputs": [],
   "source": [
    "data_ML_path = '/Volumes/SamDick/Grad Project/Data/ML/'"
   ]
  },
  {
   "cell_type": "code",
   "execution_count": 122,
   "id": "0bfa5788",
   "metadata": {},
   "outputs": [],
   "source": [
    "count = 0\n",
    "dict_dl = {'file_name':[], 'label':[]}\n",
    "for i in range(3000):\n",
    "    file_name_ = data_ML_path+'train/'+str(count)+'.npy'\n",
    "    np.save(file_name_, transform_train(np.array(data_train[i]).reshape(3,3)).numpy())\n",
    "    dict_dl['file_name'].append(str(count)+'.npy')\n",
    "    dict_dl['label'].append(label_train[i])\n",
    "    count = count+1\n",
    "\n",
    "for j in range(1000):\n",
    "    file_name_ = data_ML_path+'test/'+str(count)+'.npy'\n",
    "    np.save(file_name_, transform_train(np.array(data_test[j]).reshape(3,3)).numpy())\n",
    "    dict_dl['file_name'].append(str(count)+'.npy')\n",
    "    dict_dl['label'].append(label_test[j])\n",
    "    count = count+1"
   ]
  },
  {
   "cell_type": "code",
   "execution_count": 123,
   "id": "b8fd0249",
   "metadata": {},
   "outputs": [
    {
     "data": {
      "text/html": [
       "<div>\n",
       "<style scoped>\n",
       "    .dataframe tbody tr th:only-of-type {\n",
       "        vertical-align: middle;\n",
       "    }\n",
       "\n",
       "    .dataframe tbody tr th {\n",
       "        vertical-align: top;\n",
       "    }\n",
       "\n",
       "    .dataframe thead th {\n",
       "        text-align: right;\n",
       "    }\n",
       "</style>\n",
       "<table border=\"1\" class=\"dataframe\">\n",
       "  <thead>\n",
       "    <tr style=\"text-align: right;\">\n",
       "      <th></th>\n",
       "      <th>file_name</th>\n",
       "      <th>label</th>\n",
       "    </tr>\n",
       "  </thead>\n",
       "  <tbody>\n",
       "    <tr>\n",
       "      <th>0</th>\n",
       "      <td>0.npy</td>\n",
       "      <td>0</td>\n",
       "    </tr>\n",
       "    <tr>\n",
       "      <th>1</th>\n",
       "      <td>1.npy</td>\n",
       "      <td>0</td>\n",
       "    </tr>\n",
       "    <tr>\n",
       "      <th>2</th>\n",
       "      <td>2.npy</td>\n",
       "      <td>0</td>\n",
       "    </tr>\n",
       "    <tr>\n",
       "      <th>3</th>\n",
       "      <td>3.npy</td>\n",
       "      <td>0</td>\n",
       "    </tr>\n",
       "    <tr>\n",
       "      <th>4</th>\n",
       "      <td>4.npy</td>\n",
       "      <td>0</td>\n",
       "    </tr>\n",
       "    <tr>\n",
       "      <th>...</th>\n",
       "      <td>...</td>\n",
       "      <td>...</td>\n",
       "    </tr>\n",
       "    <tr>\n",
       "      <th>3995</th>\n",
       "      <td>3995.npy</td>\n",
       "      <td>0</td>\n",
       "    </tr>\n",
       "    <tr>\n",
       "      <th>3996</th>\n",
       "      <td>3996.npy</td>\n",
       "      <td>0</td>\n",
       "    </tr>\n",
       "    <tr>\n",
       "      <th>3997</th>\n",
       "      <td>3997.npy</td>\n",
       "      <td>1</td>\n",
       "    </tr>\n",
       "    <tr>\n",
       "      <th>3998</th>\n",
       "      <td>3998.npy</td>\n",
       "      <td>0</td>\n",
       "    </tr>\n",
       "    <tr>\n",
       "      <th>3999</th>\n",
       "      <td>3999.npy</td>\n",
       "      <td>1</td>\n",
       "    </tr>\n",
       "  </tbody>\n",
       "</table>\n",
       "<p>4000 rows × 2 columns</p>\n",
       "</div>"
      ],
      "text/plain": [
       "     file_name  label\n",
       "0        0.npy      0\n",
       "1        1.npy      0\n",
       "2        2.npy      0\n",
       "3        3.npy      0\n",
       "4        4.npy      0\n",
       "...        ...    ...\n",
       "3995  3995.npy      0\n",
       "3996  3996.npy      0\n",
       "3997  3997.npy      1\n",
       "3998  3998.npy      0\n",
       "3999  3999.npy      1\n",
       "\n",
       "[4000 rows x 2 columns]"
      ]
     },
     "execution_count": 123,
     "metadata": {},
     "output_type": "execute_result"
    }
   ],
   "source": [
    "df = pd.DataFrame.from_dict(dict_dl)\n",
    "df"
   ]
  },
  {
   "cell_type": "code",
   "execution_count": 124,
   "id": "58b9b717",
   "metadata": {},
   "outputs": [],
   "source": [
    "df.to_csv(data_ML_path+'labels.csv', index=False)"
   ]
  },
  {
   "cell_type": "code",
   "execution_count": 104,
   "id": "98e3d353",
   "metadata": {},
   "outputs": [],
   "source": [
    "np.save(file_path+'test.npy', transform_train(np.array(data_train[5000]).reshape(3,3)).numpy())"
   ]
  },
  {
   "cell_type": "code",
   "execution_count": null,
   "id": "386a9797",
   "metadata": {},
   "outputs": [],
   "source": []
  },
  {
   "cell_type": "code",
   "execution_count": 77,
   "id": "9c6c721c",
   "metadata": {},
   "outputs": [],
   "source": [
    "data_np = np.array(data_list)"
   ]
  },
  {
   "cell_type": "code",
   "execution_count": 78,
   "id": "c9276e16",
   "metadata": {},
   "outputs": [
    {
     "data": {
      "text/plain": [
       "array([[1.21744132, 1.21744132, 1.21744132, ..., 1.17058039, 1.21744132,\n",
       "        0.        ],\n",
       "       [1.21744132, 1.21744132, 1.47277606, ..., 1.21744132, 1.47277606,\n",
       "        0.        ],\n",
       "       [1.21744132, 1.47277606, 1.60149801, ..., 1.47277606, 1.60149801,\n",
       "        0.        ],\n",
       "       ...,\n",
       "       [0.58916503, 2.87423205, 0.57247901, ..., 0.83830398, 1.17046094,\n",
       "        0.        ],\n",
       "       [2.87423205, 0.57247901, 0.62167001, ..., 1.17046094, 0.505063  ,\n",
       "        0.        ],\n",
       "       [0.57247901, 0.62167001, 1.77499998, ..., 0.505063  , 0.126865  ,\n",
       "        0.        ]])"
      ]
     },
     "execution_count": 78,
     "metadata": {},
     "output_type": "execute_result"
    }
   ],
   "source": [
    "data_np"
   ]
  },
  {
   "cell_type": "code",
   "execution_count": 79,
   "id": "2c2d39ff",
   "metadata": {},
   "outputs": [],
   "source": [
    "X, y = np.arange(10).reshape((5, 2)), range(5)"
   ]
  },
  {
   "cell_type": "code",
   "execution_count": 82,
   "id": "b454f697",
   "metadata": {},
   "outputs": [
    {
     "data": {
      "text/plain": [
       "[0, 1, 2, 3, 4]"
      ]
     },
     "execution_count": 82,
     "metadata": {},
     "output_type": "execute_result"
    }
   ],
   "source": []
  },
  {
   "cell_type": "code",
   "execution_count": 47,
   "id": "b724bf19",
   "metadata": {},
   "outputs": [],
   "source": [
    "import rasterio\n",
    "from affine import Affine"
   ]
  },
  {
   "cell_type": "code",
   "execution_count": 52,
   "id": "f0c53016",
   "metadata": {},
   "outputs": [],
   "source": [
    "dst_crs='EPSG:28992'\n",
    "out_file = file_path + 'R5_30GN1_ip.TIF'\n",
    "afn = Affine.from_gdal(*data_r.GetGeoTransform())\n",
    "with rasterio.open(\n",
    "    out_file,\n",
    "    'w',\n",
    "    driver='GTiff',\n",
    "    height=padded_ele_r.shape[0],\n",
    "    width=padded_ele_r.shape[1],\n",
    "    count=1,\n",
    "    dtype=np.float32,\n",
    "    crs=data_r.GetProjection(),\n",
    "    transform=afn,\n",
    ") as dest_file:\n",
    "    dest_file.write(GD1, 1)\n",
    "dest_file.close()"
   ]
  },
  {
   "cell_type": "code",
   "execution_count": 49,
   "id": "71b9933c",
   "metadata": {},
   "outputs": [
    {
     "data": {
      "text/plain": [
       "(80000.0, 5.0, 0.0, 462500.0, 0.0, -5.0)"
      ]
     },
     "execution_count": 49,
     "metadata": {},
     "output_type": "execute_result"
    }
   ],
   "source": [
    "data_r.GetGeoTransform()"
   ]
  },
  {
   "cell_type": "code",
   "execution_count": 44,
   "id": "4521adc0",
   "metadata": {},
   "outputs": [],
   "source": [
    "driver = gdal.GetDriverByName(\"GTiff\")\n",
    "out_file = file_path + 'R5_30GN1_ip.TIF'\n",
    "\n",
    "outdata = driver.Create(out_file, padded_ele_r.shape[1],  padded_ele_r.shape[0], 1, gdal.GDT_UInt16)\n",
    "outdata.SetGeoTransform(data_r.GetGeoTransform())##sets same geotransform as input\n",
    "outdata.SetProjection(data_r.GetProjection())##sets same projection as input\n",
    "outdata.GetRasterBand(1).WriteArray(GD1)\n",
    "# outdata.GetRasterBand(1).SetNoDataValue(10000)##if you want these values transparent\n",
    "outdata.FlushCache() ##saves to disk!!\n",
    "outdata = None"
   ]
  }
 ],
 "metadata": {
  "kernelspec": {
   "display_name": "Python 3 (ipykernel)",
   "language": "python",
   "name": "python3"
  },
  "language_info": {
   "codemirror_mode": {
    "name": "ipython",
    "version": 3
   },
   "file_extension": ".py",
   "mimetype": "text/x-python",
   "name": "python",
   "nbconvert_exporter": "python",
   "pygments_lexer": "ipython3",
   "version": "3.9.12"
  }
 },
 "nbformat": 4,
 "nbformat_minor": 5
}
