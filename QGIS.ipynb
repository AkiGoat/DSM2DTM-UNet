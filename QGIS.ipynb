{
 "cells": [
  {
   "cell_type": "code",
   "execution_count": 1,
   "metadata": {},
   "outputs": [],
   "source": [
    "import os\n",
    "import sys\n",
    "import json\n",
    "import pandas as pd\n"
   ]
  },
  {
   "cell_type": "code",
   "execution_count": 2,
   "metadata": {},
   "outputs": [],
   "source": [
    "from qgis.core import *\n",
    "import qgis.utils\n"
   ]
  },
  {
   "cell_type": "code",
   "execution_count": 40,
   "metadata": {},
   "outputs": [
    {
     "data": {
      "text/plain": [
       "<qgis.processing.algfactory.ProcessingAlgFactory at 0x1a957a7c0>"
      ]
     },
     "execution_count": 40,
     "metadata": {},
     "output_type": "execute_result"
    }
   ],
   "source": [
    "QgsProcessing."
   ]
  },
  {
   "cell_type": "code",
   "execution_count": 29,
   "metadata": {},
   "outputs": [
    {
     "ename": "AttributeError",
     "evalue": "module 'processing' has no attribute 'run'",
     "output_type": "error",
     "traceback": [
      "\u001b[0;31m---------------------------------------------------------------------------\u001b[0m",
      "\u001b[0;31mAttributeError\u001b[0m                            Traceback (most recent call last)",
      "Cell \u001b[0;32mIn [29], line 1\u001b[0m\n\u001b[0;32m----> 1\u001b[0m \u001b[43mprocessing\u001b[49m\u001b[38;5;241;43m.\u001b[39;49m\u001b[43mrun\u001b[49m()\n",
      "\u001b[0;31mAttributeError\u001b[0m: module 'processing' has no attribute 'run'"
     ]
    }
   ],
   "source": []
  },
  {
   "cell_type": "code",
   "execution_count": 14,
   "metadata": {},
   "outputs": [],
   "source": [
    "for alg in QgsApplication.processingRegistry().algorithms():\n",
    "    print(alg.id(), \"->\", alg.displayName())\n"
   ]
  },
  {
   "cell_type": "code",
   "execution_count": null,
   "metadata": {},
   "outputs": [],
   "source": []
  },
  {
   "cell_type": "code",
   "execution_count": 25,
   "metadata": {},
   "outputs": [
    {
     "ename": "AttributeError",
     "evalue": "module 'qgis.processing' has no attribute 'run'",
     "output_type": "error",
     "traceback": [
      "\u001b[0;31m---------------------------------------------------------------------------\u001b[0m",
      "\u001b[0;31mAttributeError\u001b[0m                            Traceback (most recent call last)",
      "Cell \u001b[0;32mIn [25], line 1\u001b[0m\n\u001b[0;32m----> 1\u001b[0m \u001b[43mqgis\u001b[49m\u001b[38;5;241;43m.\u001b[39;49m\u001b[43mprocessing\u001b[49m\u001b[38;5;241;43m.\u001b[39;49m\u001b[43mrun\u001b[49m(\n\u001b[1;32m      2\u001b[0m     \u001b[38;5;124m\"\u001b[39m\u001b[38;5;124msaga:resampling\u001b[39m\u001b[38;5;124m\"\u001b[39m, {\n\u001b[1;32m      3\u001b[0m         \u001b[38;5;124m'\u001b[39m\u001b[38;5;124mINPUT\u001b[39m\u001b[38;5;124m'\u001b[39m: \u001b[38;5;124m'\u001b[39m\u001b[38;5;124m/Volumes/HydesT7/Grad Project/Data/ANH4_all/R5_67HZ1.TIF\u001b[39m\u001b[38;5;124m'\u001b[39m,\n\u001b[1;32m      4\u001b[0m         \u001b[38;5;124m'\u001b[39m\u001b[38;5;124mKEEP_TYPE\u001b[39m\u001b[38;5;124m'\u001b[39m: \u001b[38;5;28;01mTrue\u001b[39;00m,\n\u001b[1;32m      5\u001b[0m         \u001b[38;5;124m'\u001b[39m\u001b[38;5;124mSCALE_UP\u001b[39m\u001b[38;5;124m'\u001b[39m: \u001b[38;5;241m5\u001b[39m,\n\u001b[1;32m      6\u001b[0m         \u001b[38;5;124m'\u001b[39m\u001b[38;5;124mSCALE_DOWN\u001b[39m\u001b[38;5;124m'\u001b[39m: \u001b[38;5;241m3\u001b[39m,\n\u001b[1;32m      7\u001b[0m         \u001b[38;5;124m'\u001b[39m\u001b[38;5;124mTARGET_USER_XMIN TARGET_USER_XMAX TARGET_USER_YMIN TARGET_USER_YMAX\u001b[39m\u001b[38;5;124m'\u001b[39m:\n\u001b[1;32m      8\u001b[0m         \u001b[38;5;28;01mNone\u001b[39;00m,\n\u001b[1;32m      9\u001b[0m         \u001b[38;5;124m'\u001b[39m\u001b[38;5;124mTARGET_USER_SIZE\u001b[39m\u001b[38;5;124m'\u001b[39m: \u001b[38;5;241m30\u001b[39m,\n\u001b[1;32m     10\u001b[0m         \u001b[38;5;124m'\u001b[39m\u001b[38;5;124mTARGET_USER_FITS\u001b[39m\u001b[38;5;124m'\u001b[39m: \u001b[38;5;241m1\u001b[39m,\n\u001b[1;32m     11\u001b[0m         \u001b[38;5;124m'\u001b[39m\u001b[38;5;124mTARGET_TEMPLATE\u001b[39m\u001b[38;5;124m'\u001b[39m: \u001b[38;5;28;01mNone\u001b[39;00m,\n\u001b[1;32m     12\u001b[0m         \u001b[38;5;124m'\u001b[39m\u001b[38;5;124mOUTPUT\u001b[39m\u001b[38;5;124m'\u001b[39m:\n\u001b[1;32m     13\u001b[0m         \u001b[38;5;124m'\u001b[39m\u001b[38;5;124m/Volumes/HydesT7/Grad Project/Data/ANH4_QGIS/R5_67HZ1_30.sdat\u001b[39m\u001b[38;5;124m'\u001b[39m\n\u001b[1;32m     14\u001b[0m     })\n",
      "\u001b[0;31mAttributeError\u001b[0m: module 'qgis.processing' has no attribute 'run'"
     ]
    }
   ],
   "source": [
    "qgis.processing.run(\n",
    "    \"saga:resampling\", {\n",
    "        'INPUT': '/Volumes/HydesT7/Grad Project/Data/ANH4_all/R5_67HZ1.TIF',\n",
    "        'KEEP_TYPE': True,\n",
    "        'SCALE_UP': 5,\n",
    "        'SCALE_DOWN': 3,\n",
    "        'TARGET_USER_XMIN TARGET_USER_XMAX TARGET_USER_YMIN TARGET_USER_YMAX':\n",
    "        None,\n",
    "        'TARGET_USER_SIZE': 30,\n",
    "        'TARGET_USER_FITS': 1,\n",
    "        'TARGET_TEMPLATE': None,\n",
    "        'OUTPUT':\n",
    "        '/Volumes/HydesT7/Grad Project/Data/ANH4_QGIS/R5_67HZ1_30.sdat'\n",
    "    })"
   ]
  },
  {
   "cell_type": "code",
   "execution_count": 2,
   "metadata": {},
   "outputs": [],
   "source": [
    "# set up system paths\n",
    "qspath = '/Users/hyde-mbp/paras/qgis_sys_paths.csv'\n",
    "# provide the path where you saved this file.\n",
    "# paths = pd.read_csv(qspath).paths.tolist()\n",
    "# with open('/Users/hyde-mbp/opt/anaconda3/envs/pytorch/lib/python3.9/site-packages/conda.pth', 'w') as pth:\n",
    "#     for path in paths:\n",
    "#         pth.write(f\"{path}\\n\")\n",
    "# sys.path += paths\n",
    "# set up environment variables\n",
    "qepath = '/Users/hyde-mbp/paras/qgis_env.json'\n",
    "js = json.loads(open(qepath, 'r').read())\n",
    "# for k, v in js.items():\n",
    "#     os.environ[k] = v\n",
    "# # In special cases, we might also need to map the PROJ_LIB to handle the projections\n",
    "# # for mac OS\n",
    "# os.environ['PROJ_LIB'] = '/Applications/Qgis.app/Contents/Resources/proj'"
   ]
  },
  {
   "cell_type": "code",
   "execution_count": 3,
   "metadata": {},
   "outputs": [],
   "source": [
    "# qgis library imports\n",
    "import PyQt5.QtCore\n",
    "# from osgeo import gdal\n",
    "import qgis.PyQt.QtCore\n",
    "from qgis.core import (QgsApplication, QgsProcessingFeedback,\n",
    "                       QgsProcessingRegistry)\n",
    "from qgis.analysis import QgsNativeAlgorithms"
   ]
  },
  {
   "cell_type": "code",
   "execution_count": 4,
   "metadata": {},
   "outputs": [
    {
     "name": "stderr",
     "output_type": "stream",
     "text": [
      "ERROR 1: MrSID driver was compiled against GDAL 3.2, but the current library version is 3.3\n",
      "ERROR 1: ECW driver was compiled against GDAL 3.2, but the current library version is 3.3\n",
      "ERROR 1: JP2ECW driver was compiled against GDAL 3.2, but the current library version is 3.3\n",
      "ERROR 1: MG4Lidar driver was compiled against GDAL 3.2, but the current library version is 3.3\n"
     ]
    },
    {
     "ename": "ModuleNotFoundError",
     "evalue": "No module named 'processing.core'",
     "output_type": "error",
     "traceback": [
      "\u001b[0;31m---------------------------------------------------------------------------\u001b[0m",
      "\u001b[0;31mModuleNotFoundError\u001b[0m                       Traceback (most recent call last)",
      "Cell \u001b[0;32mIn [4], line 8\u001b[0m\n\u001b[1;32m      5\u001b[0m qgs\u001b[38;5;241m.\u001b[39minitQgis(\n\u001b[1;32m      6\u001b[0m )  \u001b[38;5;66;03m# use qgs.exitQgis() to exit the processing module at the end of the script.\u001b[39;00m\n\u001b[1;32m      7\u001b[0m \u001b[38;5;66;03m# initialize processing algorithms\u001b[39;00m\n\u001b[0;32m----> 8\u001b[0m \u001b[38;5;28;01mfrom\u001b[39;00m \u001b[38;5;21;01mprocessing\u001b[39;00m\u001b[38;5;21;01m.\u001b[39;00m\u001b[38;5;21;01mcore\u001b[39;00m\u001b[38;5;21;01m.\u001b[39;00m\u001b[38;5;21;01mProcessing\u001b[39;00m \u001b[38;5;28;01mimport\u001b[39;00m Processing\n\u001b[1;32m     10\u001b[0m Processing\u001b[38;5;241m.\u001b[39minitialize()\n\u001b[1;32m     11\u001b[0m \u001b[38;5;28;01mimport\u001b[39;00m \u001b[38;5;21;01mprocessing\u001b[39;00m\n",
      "\u001b[0;31mModuleNotFoundError\u001b[0m: No module named 'processing.core'"
     ]
    }
   ],
   "source": [
    "feedback = QgsProcessingFeedback()\n",
    "# initializing processing module\n",
    "QgsApplication.setPrefixPath(js['HOME'], True)\n",
    "qgs = QgsApplication([], False)\n",
    "qgs.initQgis(\n",
    ")  # use qgs.exitQgis() to exit the processing module at the end of the script.\n",
    "# initialize processing algorithms\n",
    "from processing.core.Processing import Processing\n",
    "\n",
    "Processing.initialize()\n",
    "import processing\n",
    "\n",
    "qgs.processingRegistry().addProvider(\n",
    "    processing.algs.saga.SagaAlgorithmProvider.SagaAlgorithmProvider())\n",
    "# QgsApplication.processingRegistry().addProvider(Processing.BASIC_PROVIDERS)\n"
   ]
  },
  {
   "cell_type": "code",
   "execution_count": 13,
   "metadata": {},
   "outputs": [
    {
     "data": {
      "text/plain": [
       "<qgis.processing.algfactory.ProcessingAlgFactory at 0x7fafe8910c70>"
      ]
     },
     "execution_count": 13,
     "metadata": {},
     "output_type": "execute_result"
    }
   ],
   "source": [
    "qgis.processing.algfactory.ProcessingAlgFactory()"
   ]
  },
  {
   "cell_type": "code",
   "execution_count": 19,
   "metadata": {},
   "outputs": [
    {
     "data": {
      "text/plain": [
       "True"
      ]
     },
     "execution_count": 19,
     "metadata": {},
     "output_type": "execute_result"
    }
   ],
   "source": [
    "processing.isMac()"
   ]
  },
  {
   "cell_type": "code",
   "execution_count": 15,
   "metadata": {},
   "outputs": [
    {
     "ename": "TypeError",
     "evalue": "define() missing 4 required positional arguments: 'name', 'label', 'group', and 'group_label'",
     "output_type": "error",
     "traceback": [
      "\u001b[0;31m---------------------------------------------------------------------------\u001b[0m",
      "\u001b[0;31mTypeError\u001b[0m                                 Traceback (most recent call last)",
      "\u001b[1;32m/Users/hyde-mbp/Projects/Grad/QGIS.ipynb Cell 6\u001b[0m in \u001b[0;36m<cell line: 1>\u001b[0;34m()\u001b[0m\n\u001b[0;32m----> <a href='vscode-notebook-cell:/Users/hyde-mbp/Projects/Grad/QGIS.ipynb#X24sZmlsZQ%3D%3D?line=0'>1</a>\u001b[0m \u001b[39mfor\u001b[39;00m alg \u001b[39min\u001b[39;00m qgis\u001b[39m.\u001b[39;49mprocessing\u001b[39m.\u001b[39;49malg():\n\u001b[1;32m      <a href='vscode-notebook-cell:/Users/hyde-mbp/Projects/Grad/QGIS.ipynb#X24sZmlsZQ%3D%3D?line=1'>2</a>\u001b[0m     \u001b[39mprint\u001b[39m(alg\u001b[39m.\u001b[39mid(), \u001b[39m\"\u001b[39m\u001b[39m->\u001b[39m\u001b[39m\"\u001b[39m, alg\u001b[39m.\u001b[39mdisplayName())\n",
      "File \u001b[0;32m~/opt/anaconda3/envs/pytorch/share/qgis/python/qgis/processing/algfactory.py:366\u001b[0m, in \u001b[0;36mProcessingAlgFactory.__call__\u001b[0;34m(self, *args, **kwargs)\u001b[0m\n\u001b[1;32m    365\u001b[0m \u001b[39mdef\u001b[39;00m \u001b[39m__call__\u001b[39m(\u001b[39mself\u001b[39m, \u001b[39m*\u001b[39margs, \u001b[39m*\u001b[39m\u001b[39m*\u001b[39mkwargs):\n\u001b[0;32m--> 366\u001b[0m     \u001b[39mreturn\u001b[39;00m \u001b[39mself\u001b[39;49m\u001b[39m.\u001b[39;49m_define(\u001b[39m*\u001b[39;49margs, \u001b[39m*\u001b[39;49m\u001b[39m*\u001b[39;49mkwargs)\n",
      "File \u001b[0;32m~/opt/anaconda3/envs/pytorch/share/qgis/python/qgis/processing/algfactory.py:377\u001b[0m, in \u001b[0;36mProcessingAlgFactory._define\u001b[0;34m(self, *args, **kwargs)\u001b[0m\n\u001b[1;32m    375\u001b[0m \u001b[39mdef\u001b[39;00m \u001b[39m_define\u001b[39m(\u001b[39mself\u001b[39m, \u001b[39m*\u001b[39margs, \u001b[39m*\u001b[39m\u001b[39m*\u001b[39mkwargs):\n\u001b[1;32m    376\u001b[0m     \u001b[39mself\u001b[39m\u001b[39m.\u001b[39m_initnew()\n\u001b[0;32m--> 377\u001b[0m     \u001b[39mself\u001b[39;49m\u001b[39m.\u001b[39;49mcurrent\u001b[39m.\u001b[39;49mdefine(\u001b[39m*\u001b[39;49margs, \u001b[39m*\u001b[39;49m\u001b[39m*\u001b[39;49mkwargs)\n\u001b[1;32m    379\u001b[0m     \u001b[39mdef\u001b[39;00m \u001b[39mdec\u001b[39m(f):\n\u001b[1;32m    380\u001b[0m         \u001b[39mself\u001b[39m\u001b[39m.\u001b[39mcurrent\u001b[39m.\u001b[39mset_func(f)\n",
      "\u001b[0;31mTypeError\u001b[0m: define() missing 4 required positional arguments: 'name', 'label', 'group', and 'group_label'"
     ]
    }
   ],
   "source": [
    "for alg in qgis.processing.:\n",
    "    print(alg.id(), \"->\", alg.displayName())"
   ]
  },
  {
   "cell_type": "code",
   "execution_count": 8,
   "metadata": {},
   "outputs": [],
   "source": [
    "qgs.exitQgis()"
   ]
  },
  {
   "cell_type": "code",
   "execution_count": 6,
   "metadata": {},
   "outputs": [],
   "source": [
    "Processing.activateProvider(\n",
    "    processing.algs.saga.SagaAlgorithmProvider.SagaAlgorithmProvider())\n"
   ]
  },
  {
   "cell_type": "code",
   "execution_count": 7,
   "metadata": {},
   "outputs": [
    {
     "data": {
      "text/plain": [
       "[<processing.algs.qgis.QgisAlgorithmProvider.QgisAlgorithmProvider at 0x7fb028ad21f0>,\n",
       " <processing.algs.grass7.Grass7AlgorithmProvider.Grass7AlgorithmProvider at 0x7fb028fd65e0>,\n",
       " <processing.algs.gdal.GdalAlgorithmProvider.GdalAlgorithmProvider at 0x7fb028fd6550>,\n",
       " <processing.algs.otb.OtbAlgorithmProvider.OtbAlgorithmProvider at 0x7fb008ce7a60>,\n",
       " <processing.algs.saga.SagaAlgorithmProvider.SagaAlgorithmProvider at 0x7fb008ce7ee0>,\n",
       " <processing.script.ScriptAlgorithmProvider.ScriptAlgorithmProvider at 0x7fb018239430>,\n",
       " <processing.modeler.ModelerAlgorithmProvider.ModelerAlgorithmProvider at 0x7fb008d20af0>,\n",
       " <processing.modeler.ProjectProvider.ProjectProvider at 0x7fb008d290d0>]"
      ]
     },
     "execution_count": 7,
     "metadata": {},
     "output_type": "execute_result"
    }
   ],
   "source": [
    "Processing.BASIC_PROVIDERS"
   ]
  },
  {
   "cell_type": "code",
   "execution_count": 5,
   "metadata": {},
   "outputs": [],
   "source": [
    "# algs = dict()\n",
    "for alg in QgsApplication.processingRegistry().algorithms():\n",
    "    print(alg.id(), \"->\", alg.displayName())\n",
    "# print(algs)"
   ]
  },
  {
   "cell_type": "code",
   "execution_count": 9,
   "metadata": {},
   "outputs": [
    {
     "ename": "QgsProcessingException",
     "evalue": "Error: Algorithm saga:resampling not found\n",
     "output_type": "error",
     "traceback": [
      "\u001b[0;31m---------------------------------------------------------------------------\u001b[0m",
      "\u001b[0;31mQgsProcessingException\u001b[0m                    Traceback (most recent call last)",
      "\u001b[1;32m/Users/hyde-mbp/Projects/Grad/QGIS.ipynb Cell 9\u001b[0m in \u001b[0;36m<cell line: 5>\u001b[0;34m()\u001b[0m\n\u001b[1;32m      <a href='vscode-notebook-cell:/Users/hyde-mbp/Projects/Grad/QGIS.ipynb#W4sZmlsZQ%3D%3D?line=0'>1</a>\u001b[0m \u001b[39m# from processing.core.Processing import Processing\u001b[39;00m\n\u001b[1;32m      <a href='vscode-notebook-cell:/Users/hyde-mbp/Projects/Grad/QGIS.ipynb#W4sZmlsZQ%3D%3D?line=1'>2</a>\u001b[0m \n\u001b[1;32m      <a href='vscode-notebook-cell:/Users/hyde-mbp/Projects/Grad/QGIS.ipynb#W4sZmlsZQ%3D%3D?line=2'>3</a>\u001b[0m \u001b[39m# Processing.activateProvider('SagaAlgorithmProvider')\u001b[39;00m\n\u001b[0;32m----> <a href='vscode-notebook-cell:/Users/hyde-mbp/Projects/Grad/QGIS.ipynb#W4sZmlsZQ%3D%3D?line=4'>5</a>\u001b[0m Processing\u001b[39m.\u001b[39;49mrunAlgorithm(\n\u001b[1;32m      <a href='vscode-notebook-cell:/Users/hyde-mbp/Projects/Grad/QGIS.ipynb#W4sZmlsZQ%3D%3D?line=5'>6</a>\u001b[0m     \u001b[39m'\u001b[39;49m\u001b[39msaga:resampling\u001b[39;49m\u001b[39m'\u001b[39;49m, {\n\u001b[1;32m      <a href='vscode-notebook-cell:/Users/hyde-mbp/Projects/Grad/QGIS.ipynb#W4sZmlsZQ%3D%3D?line=6'>7</a>\u001b[0m         \u001b[39m'\u001b[39;49m\u001b[39mINPUT\u001b[39;49m\u001b[39m'\u001b[39;49m: \u001b[39m'\u001b[39;49m\u001b[39m/Volumes/HydesT7/Grad Project/Data/ANH4_all/R5_67HZ1.TIF\u001b[39;49m\u001b[39m'\u001b[39;49m,\n\u001b[1;32m      <a href='vscode-notebook-cell:/Users/hyde-mbp/Projects/Grad/QGIS.ipynb#W4sZmlsZQ%3D%3D?line=7'>8</a>\u001b[0m         \u001b[39m'\u001b[39;49m\u001b[39mKEEP_TYPE\u001b[39;49m\u001b[39m'\u001b[39;49m: \u001b[39mTrue\u001b[39;49;00m,\n\u001b[1;32m      <a href='vscode-notebook-cell:/Users/hyde-mbp/Projects/Grad/QGIS.ipynb#W4sZmlsZQ%3D%3D?line=8'>9</a>\u001b[0m         \u001b[39m'\u001b[39;49m\u001b[39mSCALE_UP\u001b[39;49m\u001b[39m'\u001b[39;49m: \u001b[39m5\u001b[39;49m,\n\u001b[1;32m     <a href='vscode-notebook-cell:/Users/hyde-mbp/Projects/Grad/QGIS.ipynb#W4sZmlsZQ%3D%3D?line=9'>10</a>\u001b[0m         \u001b[39m'\u001b[39;49m\u001b[39mSCALE_DOWN\u001b[39;49m\u001b[39m'\u001b[39;49m: \u001b[39m3\u001b[39;49m,\n\u001b[1;32m     <a href='vscode-notebook-cell:/Users/hyde-mbp/Projects/Grad/QGIS.ipynb#W4sZmlsZQ%3D%3D?line=10'>11</a>\u001b[0m         \u001b[39m'\u001b[39;49m\u001b[39mTARGET_USER_XMIN TARGET_USER_XMAX TARGET_USER_YMIN TARGET_USER_YMAX\u001b[39;49m\u001b[39m'\u001b[39;49m:\n\u001b[1;32m     <a href='vscode-notebook-cell:/Users/hyde-mbp/Projects/Grad/QGIS.ipynb#W4sZmlsZQ%3D%3D?line=11'>12</a>\u001b[0m         \u001b[39mNone\u001b[39;49;00m,\n\u001b[1;32m     <a href='vscode-notebook-cell:/Users/hyde-mbp/Projects/Grad/QGIS.ipynb#W4sZmlsZQ%3D%3D?line=12'>13</a>\u001b[0m         \u001b[39m'\u001b[39;49m\u001b[39mTARGET_USER_SIZE\u001b[39;49m\u001b[39m'\u001b[39;49m: \u001b[39m30\u001b[39;49m,\n\u001b[1;32m     <a href='vscode-notebook-cell:/Users/hyde-mbp/Projects/Grad/QGIS.ipynb#W4sZmlsZQ%3D%3D?line=13'>14</a>\u001b[0m         \u001b[39m'\u001b[39;49m\u001b[39mTARGET_USER_FITS\u001b[39;49m\u001b[39m'\u001b[39;49m: \u001b[39m1\u001b[39;49m,\n\u001b[1;32m     <a href='vscode-notebook-cell:/Users/hyde-mbp/Projects/Grad/QGIS.ipynb#W4sZmlsZQ%3D%3D?line=14'>15</a>\u001b[0m         \u001b[39m'\u001b[39;49m\u001b[39mTARGET_TEMPLATE\u001b[39;49m\u001b[39m'\u001b[39;49m: \u001b[39mNone\u001b[39;49;00m,\n\u001b[1;32m     <a href='vscode-notebook-cell:/Users/hyde-mbp/Projects/Grad/QGIS.ipynb#W4sZmlsZQ%3D%3D?line=15'>16</a>\u001b[0m         \u001b[39m'\u001b[39;49m\u001b[39mOUTPUT\u001b[39;49m\u001b[39m'\u001b[39;49m:\n\u001b[1;32m     <a href='vscode-notebook-cell:/Users/hyde-mbp/Projects/Grad/QGIS.ipynb#W4sZmlsZQ%3D%3D?line=16'>17</a>\u001b[0m         \u001b[39m'\u001b[39;49m\u001b[39m/Volumes/HydesT7/Grad Project/Data/ANH4_QGIS/R5_67HZ1_30.sdat\u001b[39;49m\u001b[39m'\u001b[39;49m\n\u001b[1;32m     <a href='vscode-notebook-cell:/Users/hyde-mbp/Projects/Grad/QGIS.ipynb#W4sZmlsZQ%3D%3D?line=17'>18</a>\u001b[0m     })\n",
      "File \u001b[0;32m~/opt/anaconda3/envs/pytorch/share/qgis/python/plugins/processing/core/Processing.py:156\u001b[0m, in \u001b[0;36mProcessing.runAlgorithm\u001b[0;34m(algOrName, parameters, onFinish, feedback, context)\u001b[0m\n\u001b[1;32m    154\u001b[0m     msg \u001b[39m=\u001b[39m Processing\u001b[39m.\u001b[39mtr(\u001b[39m'\u001b[39m\u001b[39mError: Algorithm \u001b[39m\u001b[39m{0}\u001b[39;00m\u001b[39m not found\u001b[39m\u001b[39m\\n\u001b[39;00m\u001b[39m'\u001b[39m)\u001b[39m.\u001b[39mformat(algOrName)\n\u001b[1;32m    155\u001b[0m     feedback\u001b[39m.\u001b[39mreportError(msg)\n\u001b[0;32m--> 156\u001b[0m     \u001b[39mraise\u001b[39;00m QgsProcessingException(msg)\n\u001b[1;32m    158\u001b[0m \u001b[39mif\u001b[39;00m context \u001b[39mis\u001b[39;00m \u001b[39mNone\u001b[39;00m:\n\u001b[1;32m    159\u001b[0m     context \u001b[39m=\u001b[39m dataobjects\u001b[39m.\u001b[39mcreateContext(feedback)\n",
      "\u001b[0;31mQgsProcessingException\u001b[0m: Error: Algorithm saga:resampling not found\n"
     ]
    }
   ],
   "source": [
    "# from processing.core.Processing import Processing\n",
    "\n",
    "# Processing.activateProvider('SagaAlgorithmProvider')\n",
    "\n",
    "Processing.runAlgorithm(\n",
    "    'saga:resampling', {\n",
    "        'INPUT': '/Volumes/HydesT7/Grad Project/Data/ANH4_all/R5_67HZ1.TIF',\n",
    "        'KEEP_TYPE': True,\n",
    "        'SCALE_UP': 5,\n",
    "        'SCALE_DOWN': 3,\n",
    "        'TARGET_USER_XMIN TARGET_USER_XMAX TARGET_USER_YMIN TARGET_USER_YMAX':\n",
    "        None,\n",
    "        'TARGET_USER_SIZE': 30,\n",
    "        'TARGET_USER_FITS': 1,\n",
    "        'TARGET_TEMPLATE': None,\n",
    "        'OUTPUT':\n",
    "        '/Volumes/HydesT7/Grad Project/Data/ANH4_QGIS/R5_67HZ1_30.sdat'\n",
    "    })\n",
    "\n",
    "# proc = Processing()\n",
    "# proc.initialize()\n",
    "\n",
    "# for alg in Processing.mro:\n",
    "    # print(alg.id(), \"->\", alg.displayName())\n",
    "# Processing.activateProvider('saga')\n",
    "# Processing.BASIC_PROVIDERS"
   ]
  },
  {
   "cell_type": "code",
   "execution_count": 26,
   "metadata": {},
   "outputs": [],
   "source": [
    "Processing.activateProvider(providerOrName='SagaAlgorithmProvider')"
   ]
  },
  {
   "cell_type": "code",
   "execution_count": 18,
   "metadata": {},
   "outputs": [
    {
     "ename": "QgsProcessingException",
     "evalue": "Error: Algorithm saga:resampling not found\n",
     "output_type": "error",
     "traceback": [
      "\u001b[0;31m---------------------------------------------------------------------------\u001b[0m",
      "\u001b[0;31mQgsProcessingException\u001b[0m                    Traceback (most recent call last)",
      "\u001b[1;32m/Users/hyde-mbp/Projects/Grad/QGIS.ipynb Cell 3\u001b[0m in \u001b[0;36m<cell line: 1>\u001b[0;34m()\u001b[0m\n\u001b[0;32m----> <a href='vscode-notebook-cell:/Users/hyde-mbp/Projects/Grad/QGIS.ipynb#W6sZmlsZQ%3D%3D?line=0'>1</a>\u001b[0m Processing\u001b[39m.\u001b[39;49mrunAlgorithm(\n\u001b[1;32m      <a href='vscode-notebook-cell:/Users/hyde-mbp/Projects/Grad/QGIS.ipynb#W6sZmlsZQ%3D%3D?line=1'>2</a>\u001b[0m     \u001b[39m\"\u001b[39;49m\u001b[39msaga:resampling\u001b[39;49m\u001b[39m\"\u001b[39;49m, {\n\u001b[1;32m      <a href='vscode-notebook-cell:/Users/hyde-mbp/Projects/Grad/QGIS.ipynb#W6sZmlsZQ%3D%3D?line=2'>3</a>\u001b[0m         \u001b[39m'\u001b[39;49m\u001b[39mINPUT\u001b[39;49m\u001b[39m'\u001b[39;49m: \u001b[39m'\u001b[39;49m\u001b[39m/Volumes/HydesT7/Grad Project/Data/ANH4_all/R5_67HZ1.TIF\u001b[39;49m\u001b[39m'\u001b[39;49m,\n\u001b[1;32m      <a href='vscode-notebook-cell:/Users/hyde-mbp/Projects/Grad/QGIS.ipynb#W6sZmlsZQ%3D%3D?line=3'>4</a>\u001b[0m         \u001b[39m'\u001b[39;49m\u001b[39mKEEP_TYPE\u001b[39;49m\u001b[39m'\u001b[39;49m: \u001b[39mTrue\u001b[39;49;00m,\n\u001b[1;32m      <a href='vscode-notebook-cell:/Users/hyde-mbp/Projects/Grad/QGIS.ipynb#W6sZmlsZQ%3D%3D?line=4'>5</a>\u001b[0m         \u001b[39m'\u001b[39;49m\u001b[39mSCALE_UP\u001b[39;49m\u001b[39m'\u001b[39;49m: \u001b[39m5\u001b[39;49m,\n\u001b[1;32m      <a href='vscode-notebook-cell:/Users/hyde-mbp/Projects/Grad/QGIS.ipynb#W6sZmlsZQ%3D%3D?line=5'>6</a>\u001b[0m         \u001b[39m'\u001b[39;49m\u001b[39mSCALE_DOWN\u001b[39;49m\u001b[39m'\u001b[39;49m: \u001b[39m3\u001b[39;49m,\n\u001b[1;32m      <a href='vscode-notebook-cell:/Users/hyde-mbp/Projects/Grad/QGIS.ipynb#W6sZmlsZQ%3D%3D?line=6'>7</a>\u001b[0m         \u001b[39m'\u001b[39;49m\u001b[39mTARGET_USER_XMIN TARGET_USER_XMAX TARGET_USER_YMIN TARGET_USER_YMAX\u001b[39;49m\u001b[39m'\u001b[39;49m:\n\u001b[1;32m      <a href='vscode-notebook-cell:/Users/hyde-mbp/Projects/Grad/QGIS.ipynb#W6sZmlsZQ%3D%3D?line=7'>8</a>\u001b[0m         \u001b[39mNone\u001b[39;49;00m,\n\u001b[1;32m      <a href='vscode-notebook-cell:/Users/hyde-mbp/Projects/Grad/QGIS.ipynb#W6sZmlsZQ%3D%3D?line=8'>9</a>\u001b[0m         \u001b[39m'\u001b[39;49m\u001b[39mTARGET_USER_SIZE\u001b[39;49m\u001b[39m'\u001b[39;49m: \u001b[39m30\u001b[39;49m,\n\u001b[1;32m     <a href='vscode-notebook-cell:/Users/hyde-mbp/Projects/Grad/QGIS.ipynb#W6sZmlsZQ%3D%3D?line=9'>10</a>\u001b[0m         \u001b[39m'\u001b[39;49m\u001b[39mTARGET_USER_FITS\u001b[39;49m\u001b[39m'\u001b[39;49m: \u001b[39m1\u001b[39;49m,\n\u001b[1;32m     <a href='vscode-notebook-cell:/Users/hyde-mbp/Projects/Grad/QGIS.ipynb#W6sZmlsZQ%3D%3D?line=10'>11</a>\u001b[0m         \u001b[39m'\u001b[39;49m\u001b[39mTARGET_TEMPLATE\u001b[39;49m\u001b[39m'\u001b[39;49m: \u001b[39mNone\u001b[39;49;00m,\n\u001b[1;32m     <a href='vscode-notebook-cell:/Users/hyde-mbp/Projects/Grad/QGIS.ipynb#W6sZmlsZQ%3D%3D?line=11'>12</a>\u001b[0m         \u001b[39m'\u001b[39;49m\u001b[39mOUTPUT\u001b[39;49m\u001b[39m'\u001b[39;49m:\n\u001b[1;32m     <a href='vscode-notebook-cell:/Users/hyde-mbp/Projects/Grad/QGIS.ipynb#W6sZmlsZQ%3D%3D?line=12'>13</a>\u001b[0m         \u001b[39m'\u001b[39;49m\u001b[39m/Volumes/HydesT7/Grad Project/Data/ANH4_QGIS/R5_67HZ1_30.sdat\u001b[39;49m\u001b[39m'\u001b[39;49m\n\u001b[1;32m     <a href='vscode-notebook-cell:/Users/hyde-mbp/Projects/Grad/QGIS.ipynb#W6sZmlsZQ%3D%3D?line=13'>14</a>\u001b[0m     })\n",
      "File \u001b[0;32m~/opt/anaconda3/envs/pytorch/share/qgis/python/plugins/processing/core/Processing.py:156\u001b[0m, in \u001b[0;36mProcessing.runAlgorithm\u001b[0;34m(algOrName, parameters, onFinish, feedback, context)\u001b[0m\n\u001b[1;32m    154\u001b[0m     msg \u001b[39m=\u001b[39m Processing\u001b[39m.\u001b[39mtr(\u001b[39m'\u001b[39m\u001b[39mError: Algorithm \u001b[39m\u001b[39m{0}\u001b[39;00m\u001b[39m not found\u001b[39m\u001b[39m\\n\u001b[39;00m\u001b[39m'\u001b[39m)\u001b[39m.\u001b[39mformat(algOrName)\n\u001b[1;32m    155\u001b[0m     feedback\u001b[39m.\u001b[39mreportError(msg)\n\u001b[0;32m--> 156\u001b[0m     \u001b[39mraise\u001b[39;00m QgsProcessingException(msg)\n\u001b[1;32m    158\u001b[0m \u001b[39mif\u001b[39;00m context \u001b[39mis\u001b[39;00m \u001b[39mNone\u001b[39;00m:\n\u001b[1;32m    159\u001b[0m     context \u001b[39m=\u001b[39m dataobjects\u001b[39m.\u001b[39mcreateContext(feedback)\n",
      "\u001b[0;31mQgsProcessingException\u001b[0m: Error: Algorithm saga:resampling not found\n"
     ]
    }
   ],
   "source": [
    "Processing.runAlgorithm(\n",
    "    \"saga:resampling\", {\n",
    "        'INPUT': '/Volumes/HydesT7/Grad Project/Data/ANH4_all/R5_67HZ1.TIF',\n",
    "        'KEEP_TYPE': True,\n",
    "        'SCALE_UP': 5,\n",
    "        'SCALE_DOWN': 3,\n",
    "        'TARGET_USER_XMIN TARGET_USER_XMAX TARGET_USER_YMIN TARGET_USER_YMAX':\n",
    "        None,\n",
    "        'TARGET_USER_SIZE': 30,\n",
    "        'TARGET_USER_FITS': 1,\n",
    "        'TARGET_TEMPLATE': None,\n",
    "        'OUTPUT':\n",
    "        '/Volumes/HydesT7/Grad Project/Data/ANH4_QGIS/R5_67HZ1_30.sdat'\n",
    "    })"
   ]
  },
  {
   "cell_type": "code",
   "execution_count": 22,
   "metadata": {},
   "outputs": [],
   "source": [
    "import qgis.processing"
   ]
  },
  {
   "cell_type": "code",
   "execution_count": 39,
   "metadata": {},
   "outputs": [
    {
     "ename": "AttributeError",
     "evalue": "module 'qgis.processing' has no attribute 'run'",
     "output_type": "error",
     "traceback": [
      "\u001b[0;31m---------------------------------------------------------------------------\u001b[0m",
      "\u001b[0;31mAttributeError\u001b[0m                            Traceback (most recent call last)",
      "Cell \u001b[0;32mIn [39], line 1\u001b[0m\n\u001b[0;32m----> 1\u001b[0m \u001b[43mqgis\u001b[49m\u001b[38;5;241;43m.\u001b[39;49m\u001b[43mprocessing\u001b[49m\u001b[38;5;241;43m.\u001b[39;49m\u001b[43mrun\u001b[49m(\n\u001b[1;32m      2\u001b[0m     \u001b[38;5;124m\"\u001b[39m\u001b[38;5;124msaga:resampling\u001b[39m\u001b[38;5;124m\"\u001b[39m, {\n\u001b[1;32m      3\u001b[0m         \u001b[38;5;124m'\u001b[39m\u001b[38;5;124mINPUT\u001b[39m\u001b[38;5;124m'\u001b[39m: \u001b[38;5;124m'\u001b[39m\u001b[38;5;124m/Volumes/HydesT7/Grad Project/Data/ANH4_all/R5_67HZ1.TIF\u001b[39m\u001b[38;5;124m'\u001b[39m,\n\u001b[1;32m      4\u001b[0m         \u001b[38;5;124m'\u001b[39m\u001b[38;5;124mKEEP_TYPE\u001b[39m\u001b[38;5;124m'\u001b[39m: \u001b[38;5;28;01mTrue\u001b[39;00m,\n\u001b[1;32m      5\u001b[0m         \u001b[38;5;124m'\u001b[39m\u001b[38;5;124mSCALE_UP\u001b[39m\u001b[38;5;124m'\u001b[39m: \u001b[38;5;241m5\u001b[39m,\n\u001b[1;32m      6\u001b[0m         \u001b[38;5;124m'\u001b[39m\u001b[38;5;124mSCALE_DOWN\u001b[39m\u001b[38;5;124m'\u001b[39m: \u001b[38;5;241m3\u001b[39m,\n\u001b[1;32m      7\u001b[0m         \u001b[38;5;124m'\u001b[39m\u001b[38;5;124mTARGET_USER_XMIN TARGET_USER_XMAX TARGET_USER_YMIN TARGET_USER_YMAX\u001b[39m\u001b[38;5;124m'\u001b[39m:\n\u001b[1;32m      8\u001b[0m         \u001b[38;5;28;01mNone\u001b[39;00m,\n\u001b[1;32m      9\u001b[0m         \u001b[38;5;124m'\u001b[39m\u001b[38;5;124mTARGET_USER_SIZE\u001b[39m\u001b[38;5;124m'\u001b[39m: \u001b[38;5;241m30\u001b[39m,\n\u001b[1;32m     10\u001b[0m         \u001b[38;5;124m'\u001b[39m\u001b[38;5;124mTARGET_USER_FITS\u001b[39m\u001b[38;5;124m'\u001b[39m: \u001b[38;5;241m1\u001b[39m,\n\u001b[1;32m     11\u001b[0m         \u001b[38;5;124m'\u001b[39m\u001b[38;5;124mTARGET_TEMPLATE\u001b[39m\u001b[38;5;124m'\u001b[39m: \u001b[38;5;28;01mNone\u001b[39;00m,\n\u001b[1;32m     12\u001b[0m         \u001b[38;5;124m'\u001b[39m\u001b[38;5;124mOUTPUT\u001b[39m\u001b[38;5;124m'\u001b[39m:\n\u001b[1;32m     13\u001b[0m         \u001b[38;5;124m'\u001b[39m\u001b[38;5;124m/Volumes/HydesT7/Grad Project/Data/ANH4_QGIS/R5_67HZ1_30.sdat\u001b[39m\u001b[38;5;124m'\u001b[39m\n\u001b[1;32m     14\u001b[0m     })\n",
      "\u001b[0;31mAttributeError\u001b[0m: module 'qgis.processing' has no attribute 'run'"
     ]
    }
   ],
   "source": [
    "qgis.processing.run(\n",
    "    \"saga:resampling\", {\n",
    "        'INPUT': '/Volumes/HydesT7/Grad Project/Data/ANH4_all/R5_67HZ1.TIF',\n",
    "        'KEEP_TYPE': True,\n",
    "        'SCALE_UP': 5,\n",
    "        'SCALE_DOWN': 3,\n",
    "        'TARGET_USER_XMIN TARGET_USER_XMAX TARGET_USER_YMIN TARGET_USER_YMAX':\n",
    "        None,\n",
    "        'TARGET_USER_SIZE': 30,\n",
    "        'TARGET_USER_FITS': 1,\n",
    "        'TARGET_TEMPLATE': None,\n",
    "        'OUTPUT':\n",
    "        '/Volumes/HydesT7/Grad Project/Data/ANH4_QGIS/R5_67HZ1_30.sdat'\n",
    "    })\n"
   ]
  }
 ],
 "metadata": {
  "kernelspec": {
   "display_name": "Python 3.9.5 64-bit",
   "language": "python",
   "name": "python3"
  },
  "language_info": {
   "codemirror_mode": {
    "name": "ipython",
    "version": 3
   },
   "file_extension": ".py",
   "mimetype": "text/x-python",
   "name": "python",
   "nbconvert_exporter": "python",
   "pygments_lexer": "ipython3",
   "version": "3.9.5"
  },
  "orig_nbformat": 4,
  "vscode": {
   "interpreter": {
    "hash": "75198705271186115f65b97ae859adde87cade5a90ca2d71f9cc5f20307d8f67"
   }
  }
 },
 "nbformat": 4,
 "nbformat_minor": 2
}
