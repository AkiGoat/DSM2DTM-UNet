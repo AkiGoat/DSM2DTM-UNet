{
 "cells": [
  {
   "cell_type": "code",
   "execution_count": 1,
   "metadata": {},
   "outputs": [],
   "source": [
    "import pandas as pd\n",
    "import numpy as py\n",
    "from tqdm import tqdm\n",
    "import requests\n",
    "from io import BytesIO\n",
    "from zipfile import ZipFile\n",
    "import os\n",
    "from pathlib import Path\n"
   ]
  },
  {
   "cell_type": "code",
   "execution_count": 2,
   "metadata": {},
   "outputs": [],
   "source": [
    "dic_zone = {}\n",
    "dic_zone['zone_1'] = ['05EZ1', '05EZ2', '05FZ1', '05FZ2', '06AZ1', '06AZ2', '06BZ1', '06BZ2', '06EZ1', '06EZ2', '06FZ1', '06FZ2',\n",
    "'05GN1', '05GN2', '05HN1', '05HN2', '06CN1', '06CN2', '06DN1', '06DN2', '06GN1', '06GN2', '06HN1', '06HN2',\n",
    "'05GZ1', '05GZ2', '05HZ1', '05HZ2', '06CZ1', '06CZ2', '06DZ1', '06DZ2', '06GZ1', '06GZ2', '06HZ1', '06HZ2',\n",
    "'10EN1', '10EN2', '10FN1', '10FN2', '11AN1', '11AN2', '11BN1', '11BN2', '11EN1', '11EN2', '11FN1', '11FN2',\n",
    "'10EZ1', '10EZ2', '10FZ1', '10FZ2', '11AZ1', '11AZ2', '11BZ1', '11BZ2', '11EZ1', '11EZ2', '11FZ1', '11FZ2',\n",
    "'10GN1', '10GN2', '10HN1', '10HN2', '11CN1', '11CN2', '11DN1', '11DN2', '11GN1', '11GN2', '11HN1', '11HN2',\n",
    "'10GZ1', '10GZ2', '10HZ1', '10HZ2', '11CZ1', '11CZ2', '11DZ1', '11DZ2', '11GZ1', '11GZ2', '11HZ1', '11HZ2',\n",
    "'15EN1', '15EN2', '15FN1', '15FN2', '16AN1', '16AN2', '16BN1', '16BN2', '16EN1', '16EN2', '16FN1', '16FN2']\n",
    "\n",
    "dic_zone['zone_2'] = ['14AZ2', '14BZ1', '14BZ2', '14EZ1', '14EZ2', '14FZ1', '14FZ2',\n",
    "'14CN2', '14DN1', '14DN2', '14GN1', '14GN2', '14HN1', '14HN2',\n",
    "'14CZ2', '14DZ1', '14DZ2', '14GZ1', '14GZ2', '14HZ1', '14HZ2',\n",
    "'19AN2', '19BN1', '19BN2', '19EN1', '19EN2', '19FN1', '19FN2',\n",
    "'19AZ2', '19BZ1', '19BZ2', '19EZ1', '19EZ2', '19FZ1', '19FZ2']\n",
    "\n",
    "dic_zone['zone_3'] = ['19CN1', '19CN2', '19DN1', '19DN2', '19GN1', '19GN2', '19HN1', '19HN2', '20CN1', '20CN2', '20DN1', '20DN2', '20GN1', '20GN2', '20HN1', '20HN2', '21CN1',\n",
    "'19CZ1', '19CZ2', '10DZ1', '19DZ2', '19GZ1', '19GZ2', '19HZ1', '19HZ2', '20CZ1', '20CZ2', '20DZ1', '20DZ2', '20GZ1', '20GZ2', '20HZ1', '20HZ2', '21CZ1',  \n",
    "'25AN1', '25AN2', '25BN1', '25BN2', '25EN1', '25EN2', '25FN1', '25FN2', '26AN1', '26AN2', '26BN1', '26BN2', '26EN1', '26EN2', '26FN1', '26FN2', '27AN1',\n",
    "'25AZ1', '25AZ2', '25BZ1', '25BZ2', '25EZ1', '25EZ2', '25FZ1', '25FZ2', '26AZ1', '26AZ2', '26BZ1', '26BZ2', '26EZ1', '26EZ2', '26FZ1', '26FZ2', '27AZ1',\n",
    "'25CN1', '25CN2', '25DN1', '25DN2', '25GN1', '25GN2', '25HN1', '25HN2', '26CN1', '26CN2', '26DN1', '26DN2', '26GN1', '26GN2', '26HN1', '26HN2', '27CN1',\n",
    "'25CZ1', '25CZ2', '25DZ1', '25DZ2', '25GZ1', '25GZ2', '25HZ1', '25HZ2', '26CZ1', '26CZ2', '26DZ1', '26DZ2', '26GZ1', '26GZ2', '26HZ1', '26HZ2', '27CZ1',\n",
    "'31AN1', '31AN2', '31BN1', '31BN2', '31EN1', '31EN2', '31FN1', '31FN2', '32AN1', '32AN2', '32BN1', '32BN2', '32EN1', '32EN2', '32FN1', '32FN2', '33AN1']\n",
    "\n",
    "dic_zone['zone_4'] = ['36FN2', '37AN1', '37AN2', '37BN1', '37BN2', '37EN1',\n",
    "'36FZ2', '37AZ1', '37AZ2', '37BZ1', '37BZ2', '37EZ1',\n",
    "'36HN2', '37CN1', '37CN2', '37DN1', '37DN2', '37GN1',\n",
    "'64FN2', '37CZ1', '37CZ2', '37DZ1', '37DZ2', '37GZ1',\n",
    "'64FZ2', '43AN1', '43AN2', '43BN1', '43BN2', '43EN1',\n",
    "'64HN2', '43AZ1', '43AZ2', '43BZ1', '43BZ2', '43EZ1',\n",
    "'64HZ2', '43CN1', '43CN2', '43DN1', '43DN2', '43GN1']\n",
    "\n",
    "dic_zone['zone_5'] = ['30EZ2', '30FZ1', '30FZ2', '31AZ1', '31AZ2', '31BZ1', '31BZ2', '31EZ1', '31EZ2', '31FZ1', '31FZ2',\n",
    "'30GN2', '30HN1', '30HN2', '31CN1', '31CN2', '31DN1', '31DN2', '31GN1', '31GN2', '31HN1', '31HN2',\n",
    "'30GZ2', '30HZ1', '30HZ2', '31CZ1', '31CZ2', '31DZ1', '31DZ2', '31GZ1', '31GZ2', '31HZ1', '31HZ2',\n",
    "'37EN2', '37FN1', '37FN2', '38AN1', '38AN2', '38BN1', '38BN2', '38EN1', '38EN2', '38FN1', '38FN2',\n",
    "'37EZ2', '37FZ1', '37FZ2', '38AZ1', '38AZ2', '38BZ1', '38BZ2', '38EZ1', '38EZ2', '38FZ1', '38FZ2',\n",
    "'37GN2', '37HN1', '37HN2', '38CN1', '38CN2', '38DN1', '38DN2', '38GN1', '38GN2', '38HN1', '38HN2',\n",
    "'37GZ2', '37HZ1', '37HZ2', '38CZ1', '38CZ2', '38DZ1', '38DZ2', '38GZ1', '38GZ2', '38HZ1', '38HZ2',\n",
    "'43EN2', '43FN1', '43FN2', '44AN1', '44AN2', '44BN1', '44BN2', '44EN1', '44EN2', '44FN1', '44FN2',\n",
    "'43EZ2', '43FZ1', '43FZ2', '44AZ1', '44AZ2', '44BZ1', '44BZ2', '44EZ1', '44EZ2', '44FZ1', '44FZ2',\n",
    "'43GN2', '43HN1', '43HN2', '44CN1', '44CN2', '44DN1', '44DN2', '44GN1', '44GN2', '44HN1', '44HN2',\n",
    "'43GZ2', '43HZ1', '43HZ2', '44CZ1', '44CZ2', '44DZ1', '44DZ2', '44GZ1', '44GZ2', '44HZ1', '44HZ2',\n",
    "'49EN2', '49FN1', '49FN2', '50AN1', '50AN2', '50BN1', '50BN2', '50EN1', '50EN2', '50FN1', '50FN2',\n",
    "'49EZ2', '49FZ1', '49FZ2', '50AZ1', '50AZ2', '50BZ1', '50BZ2', '50EZ1', '50EZ2', '50FZ1', '50FZ2',\n",
    "'49GN2', '49HN1', '49HN2', '50CN1', '50CN2', '50DN1', '50DN2', '50GN1', '50GN2', '50HN1', '50HN2']\n",
    "\n",
    "dic_zone['zone_6']=['32AZ1', '32AZ2', '32BZ1', '32BZ2',\n",
    "'32CN1', '32CN2', '32DN1', '32DN2',\n",
    "'32CZ1', '32CZ2', '32DZ1', '32DZ2',\n",
    "'39AN1', '39AN2', '39BN1', '39BN2']\n",
    "\n",
    "dic_zone['zone_7'] = ['39AZ1', '39AZ2', '39BZ1', '39BZ2', '39EZ1', '39EZ2', '39FZ1', '39FZ2', '40AZ1', '40AZ2', '40BZ1', '40BZ2',\n",
    "'39CN1', '39CN2', '39DN1', '39DN2', '39GN1', '39GN2', '39HN1', '39HN2', '40CN1', '40CN2', '40DN1', '40DN2',\n",
    "'39CZ1', '39CZ2', '39DZ1', '39DZ2', '39GZ1', '39GZ2', '39HZ1', '39HZ2', '40CZ1', '40CZ2', '40DZ1', '40DZ2',\n",
    "'45AN1', '45AN2', '45BN1', '45BN2', '45EN1', '45EN2', '45FN1', '45FN2', '46AN1', '46AN2', '46BN1', '46BN2',\n",
    "'45AZ1', '45AZ2', '45BZ1', '45BZ2', '45EZ1', '45EZ2', '45FZ1', '45FZ2', '46AZ1', '46AZ2', '46BZ1', '46BZ2']\n",
    "\n",
    "dic_zone['zone_8'] = ['65AN1', '65AN2', '65BN1', '65BN2', '65EN1', '65EN2', '65FN1', '65FN2', '43CZ1', '43CZ2', '43DZ1',\n",
    "'65AZ1', '65AZ2', '65BZ1', '65BZ2', '65EZ1', '65EZ2', '65FZ1', '65FZ2', '49AN1', '49AN2', '49BN1',\n",
    "'65CN1', '65CN2', '65DN1', '65DN2', '65GN1', '65GN2', '65HN1', '65HN2', '49AZ1', '49AZ2', '49BZ1',\n",
    "'65CZ1', '65CZ2', '65DZ1', '65DZ2', '65GZ1', '65GZ2', '65HZ1', '65HZ2', '49CN1', '49CN2', '49DN1',\n",
    "'67AN1', '67AN2', '67BN1', '67BN2', '67EN1', '67EN2', '67FN1', '67FN2', '49CZ1', '49CZ2', '49DZ1',\n",
    "'67AZ1', '67AZ2', '67BZ1', '67BZ2', '67EZ1', '67EZ2', '67FZ1', '67FZ2', '55AN1', '55AN2', '55BN1',\n",
    "'67CN1', '67CN2', '67DN1', '67DN2', '67GN1', '67GN2', '67HN1', '67HN2', '55AZ1', '55AZ2', '55BZ1']\n",
    "\n",
    "dic_zone['zone_9'] = ['45CN1', '45CN2', '45DN1', '45DN2', '45GN1', '45GN2', '45HN1',\n",
    "'45CZ1', '45CZ2', '45DZ1', '45DZ2', '45GZ1', '45GZ2', '45HZ1',\n",
    "'51AN1', '51AN2', '51BN1', '51BN2', '51EN1', '51EN2', '51FN1',\n",
    "'51AZ1', '51AZ2', '51BZ1', '51BZ2', '51EZ1', '51EZ2', '51FZ1',\n",
    "'51CN1', '51CN2', '51DN1', '51DN2', '51GN1', '54GN2', '51HN1',\n",
    "'51CZ1', '51CZ2', '51DZ1', '51DZ2', '51GZ1', '51GZ2', '51HZ1',\n",
    "'57AN1', '57AN2', '57BN1', '57BN2', '57EN1', '57EN2', '57FN1',\n",
    "'57AZ1', '57AZ2', '57BZ1', '57BZ2', '57EZ1', '57EZ2', '57FZ1']\n",
    "\n",
    "dic_zone['zone_10'] = ['45HN2', '46CN1', '46CN2', '46DN1', '46DN2', '46GN1', '46GN2',\n",
    "'45HZ2', '46CZ1', '46CZ2', '46DZ1', '46DZ2', '46GZ1', '46GZ2',\n",
    "'51FN2', '52AN1', '52AN2', '52BN1', '52BN2', '52EN1', '52EN2',\n",
    "'51FZ2', '52AZ1', '52AZ2', '52BZ1', '52BZ2', '52EZ1', '52EZ2',\n",
    "'51HN2', '52CN1', '52CN2', '52DN1', '52DN2', '52GN1', '52GN2',\n",
    "'51HZ2', '52CZ1', '52CZ2', '52DZ1', '52DZ2', '52GZ1', '52GZ2',\n",
    "'57FN2', '58AN1', '58AN2', '58BN1', '58BN2', '58EN1', '58EN2',\n",
    "'57FZ2', '58AZ1', '58AZ2', '58BZ1', '53BZ2', '58EZ1', '58EZ2',\n",
    "'57HN2', '58CN1', '58CN2', '58DN1', '58DN2', '58GN1', '58GN2',\n",
    "'57HZ2', '58CZ1', '58CZ2', '58DZ1', '58DZ2', '58GZ1', '58GZ2']\n",
    "\n",
    "dic_zone['zone_11'] = ['68CZ2', '68DZ1', '68DZ2', '68GZ1', '68GZ2', '68HZ1',\n",
    "'69AN2', '69BN1', '69BN2', '69EN1', '69EN2', '69FN1',\n",
    "'69AZ2', '69BZ1', '69BZ2', '69EZ1', '69EZ2', '69FZ1',\n",
    "'69CN2', '69DN1', '69DN2', '69GN1', '69GN2', '69HN1']"
   ]
  },
  {
   "cell_type": "code",
   "execution_count": 3,
   "metadata": {},
   "outputs": [],
   "source": [
    "def getDEM(zone):\n",
    "  path_local = '/Volumes/T7/Grad Project/Data/ANH4_n/' + zone +'/'\n",
    "  if not os.path.exists(path_local):\n",
    "    os.makedirs(path_local)\n",
    "    # print('try to make dir first')\n",
    "    # return\n",
    "  # uid = getpwnam(\"Haoyang Dong\")[2]\n",
    "  # gid = getgrnam(\"staff\")[2]\n",
    "  # os.chown(\"/Volumes/T7/Grad Project/Data/ANH4_n/\", uid, gid)\n",
    "  # Path(path_local).mkdir(parents=True, exist_ok=True)\n",
    "  print(zone+': ')\n",
    "  print('Downloading...')\n",
    "  for i in tqdm(range(len(dic_zone[zone]))):\n",
    "    url_DTM5 = 'https://ns_hwh.fundaments.nl/hwh-ahn/ahn4/02b_DTM_5m/M5_' + dic_zone[zone][i] + '.zip'\n",
    "    url_DSM5 = 'https://ns_hwh.fundaments.nl/hwh-ahn/ahn4/03b_DSM_5m/R5_' + dic_zone[zone][i] + '.zip'\n",
    "    filename_DTM5 = url_DTM5.split('/')[-1]\n",
    "    filename_DSM5 = url_DSM5.split('/')[-1]\n",
    "    # print(url_DTM5, url_DSM5)\n",
    "    r_DTM5 = requests.get(url_DTM5, stream = True)\n",
    "    r_DSM5 = requests.get(url_DSM5, stream = True)\n",
    "\n",
    "    with open(path_local+filename_DTM5,\"wb\") as zip_:\n",
    "      for chunk in r_DTM5.iter_content(chunk_size=1024):\n",
    "          # writing one chunk at a time to pdf file\n",
    "          if chunk:\n",
    "              zip_.write(chunk)\n",
    "\n",
    "    with open(path_local+filename_DSM5,\"wb\") as zip_:\n",
    "      for chunk in r_DSM5.iter_content(chunk_size=1024):\n",
    "    \n",
    "          # writing one chunk at a time to pdf file\n",
    "          if chunk:\n",
    "              zip_.write(chunk)\n",
    "\n",
    "  print('Unzipping...')\n",
    "  pbar = tqdm(total=len(os.listdir(path_local)))\n",
    "  extension = \".zip\"\n",
    "  for item in os.listdir(path_local): # loop through items in dir\n",
    "      if item.endswith(extension): # check for \".zip\" extension\n",
    "          file_name = path_local+item # get full path of files\n",
    "          zip_ref = ZipFile(file_name) # create zipfile object\n",
    "          zip_ref.extractall(path_local) # extract file to dir\n",
    "          zip_ref.close() # close file\n",
    "          os.remove(file_name) # delete zipped file\n",
    "          pbar.update(1)\n",
    "  pbar.close()\n"
   ]
  },
  {
   "cell_type": "code",
   "execution_count": 5,
   "metadata": {},
   "outputs": [
    {
     "name": "stderr",
     "output_type": "stream",
     "text": [
      "  0%|          | 0/11 [00:00<?, ?it/s]"
     ]
    },
    {
     "name": "stdout",
     "output_type": "stream",
     "text": [
      "zone_1: \n",
      "Downloading...\n"
     ]
    },
    {
     "name": "stderr",
     "output_type": "stream",
     "text": [
      "  7%|▋         | 7/96 [00:11<02:27,  1.65s/it]\n"
     ]
    },
    {
     "ename": "KeyboardInterrupt",
     "evalue": "",
     "output_type": "error",
     "traceback": [
      "\u001b[0;31m---------------------------------------------------------------------------\u001b[0m",
      "\u001b[0;31mKeyboardInterrupt\u001b[0m                         Traceback (most recent call last)",
      "\u001b[1;32m/Users/hyde-mbp/Projects/Grad/getDEMs.ipynb Cell 4\u001b[0m in \u001b[0;36m<cell line: 2>\u001b[0;34m()\u001b[0m\n\u001b[1;32m      <a href='vscode-notebook-cell:/Users/hyde-mbp/Projects/Grad/getDEMs.ipynb#W3sZmlsZQ%3D%3D?line=0'>1</a>\u001b[0m pbar_ \u001b[39m=\u001b[39m tqdm(total\u001b[39m=\u001b[39m\u001b[39mlen\u001b[39m(dic_zone))\n\u001b[1;32m      <a href='vscode-notebook-cell:/Users/hyde-mbp/Projects/Grad/getDEMs.ipynb#W3sZmlsZQ%3D%3D?line=1'>2</a>\u001b[0m \u001b[39mfor\u001b[39;00m key \u001b[39min\u001b[39;00m dic_zone:\n\u001b[0;32m----> <a href='vscode-notebook-cell:/Users/hyde-mbp/Projects/Grad/getDEMs.ipynb#W3sZmlsZQ%3D%3D?line=2'>3</a>\u001b[0m   getDEM(key)\n\u001b[1;32m      <a href='vscode-notebook-cell:/Users/hyde-mbp/Projects/Grad/getDEMs.ipynb#W3sZmlsZQ%3D%3D?line=3'>4</a>\u001b[0m   pbar_\u001b[39m.\u001b[39mupdate(\u001b[39m1\u001b[39m)\n\u001b[1;32m      <a href='vscode-notebook-cell:/Users/hyde-mbp/Projects/Grad/getDEMs.ipynb#W3sZmlsZQ%3D%3D?line=4'>5</a>\u001b[0m pbar_\u001b[39m.\u001b[39mclose()\n",
      "\u001b[1;32m/Users/hyde-mbp/Projects/Grad/getDEMs.ipynb Cell 4\u001b[0m in \u001b[0;36mgetDEM\u001b[0;34m(zone)\u001b[0m\n\u001b[1;32m     <a href='vscode-notebook-cell:/Users/hyde-mbp/Projects/Grad/getDEMs.ipynb#W3sZmlsZQ%3D%3D?line=19'>20</a>\u001b[0m r_DSM5 \u001b[39m=\u001b[39m requests\u001b[39m.\u001b[39mget(url_DSM5, stream \u001b[39m=\u001b[39m \u001b[39mTrue\u001b[39;00m)\n\u001b[1;32m     <a href='vscode-notebook-cell:/Users/hyde-mbp/Projects/Grad/getDEMs.ipynb#W3sZmlsZQ%3D%3D?line=21'>22</a>\u001b[0m \u001b[39mwith\u001b[39;00m \u001b[39mopen\u001b[39m(path_local\u001b[39m+\u001b[39mfilename_DTM5,\u001b[39m\"\u001b[39m\u001b[39mwb\u001b[39m\u001b[39m\"\u001b[39m) \u001b[39mas\u001b[39;00m zip_:\n\u001b[0;32m---> <a href='vscode-notebook-cell:/Users/hyde-mbp/Projects/Grad/getDEMs.ipynb#W3sZmlsZQ%3D%3D?line=22'>23</a>\u001b[0m   \u001b[39mfor\u001b[39;00m chunk \u001b[39min\u001b[39;00m r_DTM5\u001b[39m.\u001b[39miter_content(chunk_size\u001b[39m=\u001b[39m\u001b[39m1024\u001b[39m):\n\u001b[1;32m     <a href='vscode-notebook-cell:/Users/hyde-mbp/Projects/Grad/getDEMs.ipynb#W3sZmlsZQ%3D%3D?line=23'>24</a>\u001b[0m       \u001b[39m# writing one chunk at a time to pdf file\u001b[39;00m\n\u001b[1;32m     <a href='vscode-notebook-cell:/Users/hyde-mbp/Projects/Grad/getDEMs.ipynb#W3sZmlsZQ%3D%3D?line=24'>25</a>\u001b[0m       \u001b[39mif\u001b[39;00m chunk:\n\u001b[1;32m     <a href='vscode-notebook-cell:/Users/hyde-mbp/Projects/Grad/getDEMs.ipynb#W3sZmlsZQ%3D%3D?line=25'>26</a>\u001b[0m           zip_\u001b[39m.\u001b[39mwrite(chunk)\n",
      "File \u001b[0;32m~/opt/anaconda3/envs/pytorch/lib/python3.9/site-packages/requests/models.py:760\u001b[0m, in \u001b[0;36mResponse.iter_content.<locals>.generate\u001b[0;34m()\u001b[0m\n\u001b[1;32m    758\u001b[0m \u001b[39mif\u001b[39;00m \u001b[39mhasattr\u001b[39m(\u001b[39mself\u001b[39m\u001b[39m.\u001b[39mraw, \u001b[39m'\u001b[39m\u001b[39mstream\u001b[39m\u001b[39m'\u001b[39m):\n\u001b[1;32m    759\u001b[0m     \u001b[39mtry\u001b[39;00m:\n\u001b[0;32m--> 760\u001b[0m         \u001b[39mfor\u001b[39;00m chunk \u001b[39min\u001b[39;00m \u001b[39mself\u001b[39m\u001b[39m.\u001b[39mraw\u001b[39m.\u001b[39mstream(chunk_size, decode_content\u001b[39m=\u001b[39m\u001b[39mTrue\u001b[39;00m):\n\u001b[1;32m    761\u001b[0m             \u001b[39myield\u001b[39;00m chunk\n\u001b[1;32m    762\u001b[0m     \u001b[39mexcept\u001b[39;00m ProtocolError \u001b[39mas\u001b[39;00m e:\n",
      "File \u001b[0;32m~/opt/anaconda3/envs/pytorch/lib/python3.9/site-packages/urllib3/response.py:579\u001b[0m, in \u001b[0;36mHTTPResponse.stream\u001b[0;34m(self, amt, decode_content)\u001b[0m\n\u001b[1;32m    577\u001b[0m \u001b[39melse\u001b[39;00m:\n\u001b[1;32m    578\u001b[0m     \u001b[39mwhile\u001b[39;00m \u001b[39mnot\u001b[39;00m is_fp_closed(\u001b[39mself\u001b[39m\u001b[39m.\u001b[39m_fp):\n\u001b[0;32m--> 579\u001b[0m         data \u001b[39m=\u001b[39m \u001b[39mself\u001b[39;49m\u001b[39m.\u001b[39;49mread(amt\u001b[39m=\u001b[39;49mamt, decode_content\u001b[39m=\u001b[39;49mdecode_content)\n\u001b[1;32m    581\u001b[0m         \u001b[39mif\u001b[39;00m data:\n\u001b[1;32m    582\u001b[0m             \u001b[39myield\u001b[39;00m data\n",
      "File \u001b[0;32m~/opt/anaconda3/envs/pytorch/lib/python3.9/site-packages/urllib3/response.py:522\u001b[0m, in \u001b[0;36mHTTPResponse.read\u001b[0;34m(self, amt, decode_content, cache_content)\u001b[0m\n\u001b[1;32m    520\u001b[0m \u001b[39melse\u001b[39;00m:\n\u001b[1;32m    521\u001b[0m     cache_content \u001b[39m=\u001b[39m \u001b[39mFalse\u001b[39;00m\n\u001b[0;32m--> 522\u001b[0m     data \u001b[39m=\u001b[39m \u001b[39mself\u001b[39;49m\u001b[39m.\u001b[39;49m_fp\u001b[39m.\u001b[39;49mread(amt) \u001b[39mif\u001b[39;00m \u001b[39mnot\u001b[39;00m fp_closed \u001b[39melse\u001b[39;00m \u001b[39mb\u001b[39m\u001b[39m\"\u001b[39m\u001b[39m\"\u001b[39m\n\u001b[1;32m    523\u001b[0m     \u001b[39mif\u001b[39;00m (\n\u001b[1;32m    524\u001b[0m         amt \u001b[39m!=\u001b[39m \u001b[39m0\u001b[39m \u001b[39mand\u001b[39;00m \u001b[39mnot\u001b[39;00m data\n\u001b[1;32m    525\u001b[0m     ):  \u001b[39m# Platform-specific: Buggy versions of Python.\u001b[39;00m\n\u001b[0;32m   (...)\u001b[0m\n\u001b[1;32m    531\u001b[0m         \u001b[39m# not properly close the connection in all cases. There is\u001b[39;00m\n\u001b[1;32m    532\u001b[0m         \u001b[39m# no harm in redundantly calling close.\u001b[39;00m\n\u001b[1;32m    533\u001b[0m         \u001b[39mself\u001b[39m\u001b[39m.\u001b[39m_fp\u001b[39m.\u001b[39mclose()\n",
      "File \u001b[0;32m~/opt/anaconda3/envs/pytorch/lib/python3.9/http/client.py:463\u001b[0m, in \u001b[0;36mHTTPResponse.read\u001b[0;34m(self, amt)\u001b[0m\n\u001b[1;32m    460\u001b[0m \u001b[39mif\u001b[39;00m amt \u001b[39mis\u001b[39;00m \u001b[39mnot\u001b[39;00m \u001b[39mNone\u001b[39;00m:\n\u001b[1;32m    461\u001b[0m     \u001b[39m# Amount is given, implement using readinto\u001b[39;00m\n\u001b[1;32m    462\u001b[0m     b \u001b[39m=\u001b[39m \u001b[39mbytearray\u001b[39m(amt)\n\u001b[0;32m--> 463\u001b[0m     n \u001b[39m=\u001b[39m \u001b[39mself\u001b[39;49m\u001b[39m.\u001b[39;49mreadinto(b)\n\u001b[1;32m    464\u001b[0m     \u001b[39mreturn\u001b[39;00m \u001b[39mmemoryview\u001b[39m(b)[:n]\u001b[39m.\u001b[39mtobytes()\n\u001b[1;32m    465\u001b[0m \u001b[39melse\u001b[39;00m:\n\u001b[1;32m    466\u001b[0m     \u001b[39m# Amount is not given (unbounded read) so we must check self.length\u001b[39;00m\n\u001b[1;32m    467\u001b[0m     \u001b[39m# and self.chunked\u001b[39;00m\n",
      "File \u001b[0;32m~/opt/anaconda3/envs/pytorch/lib/python3.9/http/client.py:507\u001b[0m, in \u001b[0;36mHTTPResponse.readinto\u001b[0;34m(self, b)\u001b[0m\n\u001b[1;32m    502\u001b[0m         b \u001b[39m=\u001b[39m \u001b[39mmemoryview\u001b[39m(b)[\u001b[39m0\u001b[39m:\u001b[39mself\u001b[39m\u001b[39m.\u001b[39mlength]\n\u001b[1;32m    504\u001b[0m \u001b[39m# we do not use _safe_read() here because this may be a .will_close\u001b[39;00m\n\u001b[1;32m    505\u001b[0m \u001b[39m# connection, and the user is reading more bytes than will be provided\u001b[39;00m\n\u001b[1;32m    506\u001b[0m \u001b[39m# (for example, reading in 1k chunks)\u001b[39;00m\n\u001b[0;32m--> 507\u001b[0m n \u001b[39m=\u001b[39m \u001b[39mself\u001b[39;49m\u001b[39m.\u001b[39;49mfp\u001b[39m.\u001b[39;49mreadinto(b)\n\u001b[1;32m    508\u001b[0m \u001b[39mif\u001b[39;00m \u001b[39mnot\u001b[39;00m n \u001b[39mand\u001b[39;00m b:\n\u001b[1;32m    509\u001b[0m     \u001b[39m# Ideally, we would raise IncompleteRead if the content-length\u001b[39;00m\n\u001b[1;32m    510\u001b[0m     \u001b[39m# wasn't satisfied, but it might break compatibility.\u001b[39;00m\n\u001b[1;32m    511\u001b[0m     \u001b[39mself\u001b[39m\u001b[39m.\u001b[39m_close_conn()\n",
      "File \u001b[0;32m~/opt/anaconda3/envs/pytorch/lib/python3.9/socket.py:704\u001b[0m, in \u001b[0;36mSocketIO.readinto\u001b[0;34m(self, b)\u001b[0m\n\u001b[1;32m    702\u001b[0m \u001b[39mwhile\u001b[39;00m \u001b[39mTrue\u001b[39;00m:\n\u001b[1;32m    703\u001b[0m     \u001b[39mtry\u001b[39;00m:\n\u001b[0;32m--> 704\u001b[0m         \u001b[39mreturn\u001b[39;00m \u001b[39mself\u001b[39;49m\u001b[39m.\u001b[39;49m_sock\u001b[39m.\u001b[39;49mrecv_into(b)\n\u001b[1;32m    705\u001b[0m     \u001b[39mexcept\u001b[39;00m timeout:\n\u001b[1;32m    706\u001b[0m         \u001b[39mself\u001b[39m\u001b[39m.\u001b[39m_timeout_occurred \u001b[39m=\u001b[39m \u001b[39mTrue\u001b[39;00m\n",
      "File \u001b[0;32m~/opt/anaconda3/envs/pytorch/lib/python3.9/ssl.py:1241\u001b[0m, in \u001b[0;36mSSLSocket.recv_into\u001b[0;34m(self, buffer, nbytes, flags)\u001b[0m\n\u001b[1;32m   1237\u001b[0m     \u001b[39mif\u001b[39;00m flags \u001b[39m!=\u001b[39m \u001b[39m0\u001b[39m:\n\u001b[1;32m   1238\u001b[0m         \u001b[39mraise\u001b[39;00m \u001b[39mValueError\u001b[39;00m(\n\u001b[1;32m   1239\u001b[0m           \u001b[39m\"\u001b[39m\u001b[39mnon-zero flags not allowed in calls to recv_into() on \u001b[39m\u001b[39m%s\u001b[39;00m\u001b[39m\"\u001b[39m \u001b[39m%\u001b[39m\n\u001b[1;32m   1240\u001b[0m           \u001b[39mself\u001b[39m\u001b[39m.\u001b[39m\u001b[39m__class__\u001b[39m)\n\u001b[0;32m-> 1241\u001b[0m     \u001b[39mreturn\u001b[39;00m \u001b[39mself\u001b[39;49m\u001b[39m.\u001b[39;49mread(nbytes, buffer)\n\u001b[1;32m   1242\u001b[0m \u001b[39melse\u001b[39;00m:\n\u001b[1;32m   1243\u001b[0m     \u001b[39mreturn\u001b[39;00m \u001b[39msuper\u001b[39m()\u001b[39m.\u001b[39mrecv_into(buffer, nbytes, flags)\n",
      "File \u001b[0;32m~/opt/anaconda3/envs/pytorch/lib/python3.9/ssl.py:1099\u001b[0m, in \u001b[0;36mSSLSocket.read\u001b[0;34m(self, len, buffer)\u001b[0m\n\u001b[1;32m   1097\u001b[0m \u001b[39mtry\u001b[39;00m:\n\u001b[1;32m   1098\u001b[0m     \u001b[39mif\u001b[39;00m buffer \u001b[39mis\u001b[39;00m \u001b[39mnot\u001b[39;00m \u001b[39mNone\u001b[39;00m:\n\u001b[0;32m-> 1099\u001b[0m         \u001b[39mreturn\u001b[39;00m \u001b[39mself\u001b[39;49m\u001b[39m.\u001b[39;49m_sslobj\u001b[39m.\u001b[39;49mread(\u001b[39mlen\u001b[39;49m, buffer)\n\u001b[1;32m   1100\u001b[0m     \u001b[39melse\u001b[39;00m:\n\u001b[1;32m   1101\u001b[0m         \u001b[39mreturn\u001b[39;00m \u001b[39mself\u001b[39m\u001b[39m.\u001b[39m_sslobj\u001b[39m.\u001b[39mread(\u001b[39mlen\u001b[39m)\n",
      "\u001b[0;31mKeyboardInterrupt\u001b[0m: "
     ]
    }
   ],
   "source": [
    "pbar_ = tqdm(total=len(dic_zone))\n",
    "for key in dic_zone:\n",
    "  getDEM(key)\n",
    "  pbar_.update(1)\n",
    "pbar_.close()"
   ]
  },
  {
   "cell_type": "code",
   "execution_count": 27,
   "metadata": {},
   "outputs": [
    {
     "name": "stdout",
     "output_type": "stream",
     "text": [
      "Downloading...\n"
     ]
    },
    {
     "name": "stderr",
     "output_type": "stream",
     "text": [
      "100%|██████████| 16/16 [00:34<00:00,  2.13s/it]\n"
     ]
    },
    {
     "name": "stdout",
     "output_type": "stream",
     "text": [
      "Unzipping...\n"
     ]
    },
    {
     "name": "stderr",
     "output_type": "stream",
     "text": [
      "100%|██████████| 32/32 [00:01<00:00, 20.98it/s]\n"
     ]
    }
   ],
   "source": [
    "getDEM('zone_6')"
   ]
  },
  {
   "cell_type": "code",
   "execution_count": 13,
   "metadata": {},
   "outputs": [
    {
     "data": {
      "text/plain": [
       "32"
      ]
     },
     "execution_count": 13,
     "metadata": {},
     "output_type": "execute_result"
    }
   ],
   "source": [
    "len(os.listdir(path_local))"
   ]
  },
  {
   "cell_type": "code",
   "execution_count": null,
   "metadata": {},
   "outputs": [],
   "source": [
    "zone_1 = ['05EZ1', '05EZ2', '05FZ1', '05FZ2', '06AZ1', '06ZA2', '06BZ2', '06EZ1', '06EZ2', '06FZ1', '06FZ2', \n",
    "'05GN1', '05GN2', '05HN1', ]"
   ]
  },
  {
   "cell_type": "code",
   "execution_count": 6,
   "metadata": {},
   "outputs": [],
   "source": [
    "file_path = 'data/'"
   ]
  },
  {
   "cell_type": "code",
   "execution_count": 5,
   "metadata": {},
   "outputs": [
    {
     "data": {
      "text/html": [
       "<div>\n",
       "<style scoped>\n",
       "    .dataframe tbody tr th:only-of-type {\n",
       "        vertical-align: middle;\n",
       "    }\n",
       "\n",
       "    .dataframe tbody tr th {\n",
       "        vertical-align: top;\n",
       "    }\n",
       "\n",
       "    .dataframe thead th {\n",
       "        text-align: right;\n",
       "    }\n",
       "</style>\n",
       "<table border=\"1\" class=\"dataframe\">\n",
       "  <thead>\n",
       "    <tr style=\"text-align: right;\">\n",
       "      <th></th>\n",
       "      <th>Unnamed: 0</th>\n",
       "    </tr>\n",
       "  </thead>\n",
       "  <tbody>\n",
       "    <tr>\n",
       "      <th>0</th>\n",
       "      <td>1</td>\n",
       "    </tr>\n",
       "    <tr>\n",
       "      <th>1</th>\n",
       "      <td>2</td>\n",
       "    </tr>\n",
       "    <tr>\n",
       "      <th>2</th>\n",
       "      <td>3</td>\n",
       "    </tr>\n",
       "    <tr>\n",
       "      <th>3</th>\n",
       "      <td>4</td>\n",
       "    </tr>\n",
       "    <tr>\n",
       "      <th>4</th>\n",
       "      <td>5</td>\n",
       "    </tr>\n",
       "    <tr>\n",
       "      <th>...</th>\n",
       "      <td>...</td>\n",
       "    </tr>\n",
       "    <tr>\n",
       "      <th>1005</th>\n",
       "      <td>1006</td>\n",
       "    </tr>\n",
       "    <tr>\n",
       "      <th>1006</th>\n",
       "      <td>1007</td>\n",
       "    </tr>\n",
       "    <tr>\n",
       "      <th>1007</th>\n",
       "      <td>1008</td>\n",
       "    </tr>\n",
       "    <tr>\n",
       "      <th>1008</th>\n",
       "      <td>1009</td>\n",
       "    </tr>\n",
       "    <tr>\n",
       "      <th>1009</th>\n",
       "      <td>1010</td>\n",
       "    </tr>\n",
       "  </tbody>\n",
       "</table>\n",
       "<p>1010 rows × 1 columns</p>\n",
       "</div>"
      ],
      "text/plain": [
       "     Unnamed: 0\n",
       "0             1\n",
       "1             2\n",
       "2             3\n",
       "3             4\n",
       "4             5\n",
       "...         ...\n",
       "1005       1006\n",
       "1006       1007\n",
       "1007       1008\n",
       "1008       1009\n",
       "1009       1010\n",
       "\n",
       "[1010 rows x 1 columns]"
      ]
     },
     "execution_count": 5,
     "metadata": {},
     "output_type": "execute_result"
    }
   ],
   "source": [
    "table_list = pd.read_csv('data/arcgis_num.csv')\n",
    "table_list = table_list.drop('Unnamed: 1', axis='columns')\n",
    "table_list = table_list.dropna()\n",
    "table_list = table_list.reset_index(drop=True)\n",
    "\n",
    "\n",
    "table_list"
   ]
  },
  {
   "cell_type": "code",
   "execution_count": 8,
   "metadata": {},
   "outputs": [
    {
     "data": {
      "text/html": [
       "<div>\n",
       "<style scoped>\n",
       "    .dataframe tbody tr th:only-of-type {\n",
       "        vertical-align: middle;\n",
       "    }\n",
       "\n",
       "    .dataframe tbody tr th {\n",
       "        vertical-align: top;\n",
       "    }\n",
       "\n",
       "    .dataframe thead th {\n",
       "        text-align: right;\n",
       "    }\n",
       "</style>\n",
       "<table border=\"1\" class=\"dataframe\">\n",
       "  <thead>\n",
       "    <tr style=\"text-align: right;\">\n",
       "      <th></th>\n",
       "      <th>Unnamed: 0</th>\n",
       "    </tr>\n",
       "  </thead>\n",
       "  <tbody>\n",
       "    <tr>\n",
       "      <th>0</th>\n",
       "      <td>Name</td>\n",
       "    </tr>\n",
       "    <tr>\n",
       "      <th>1</th>\n",
       "      <td>01GN1</td>\n",
       "    </tr>\n",
       "    <tr>\n",
       "      <th>2</th>\n",
       "      <td>01GN2</td>\n",
       "    </tr>\n",
       "    <tr>\n",
       "      <th>3</th>\n",
       "      <td>01GZ1</td>\n",
       "    </tr>\n",
       "    <tr>\n",
       "      <th>4</th>\n",
       "      <td>01GZ2</td>\n",
       "    </tr>\n",
       "    <tr>\n",
       "      <th>...</th>\n",
       "      <td>...</td>\n",
       "    </tr>\n",
       "    <tr>\n",
       "      <th>975</th>\n",
       "      <td>69FN1</td>\n",
       "    </tr>\n",
       "    <tr>\n",
       "      <th>976</th>\n",
       "      <td>69FZ1</td>\n",
       "    </tr>\n",
       "    <tr>\n",
       "      <th>977</th>\n",
       "      <td>69GN1</td>\n",
       "    </tr>\n",
       "    <tr>\n",
       "      <th>978</th>\n",
       "      <td>69GN2</td>\n",
       "    </tr>\n",
       "    <tr>\n",
       "      <th>979</th>\n",
       "      <td>69HN1</td>\n",
       "    </tr>\n",
       "  </tbody>\n",
       "</table>\n",
       "<p>980 rows × 1 columns</p>\n",
       "</div>"
      ],
      "text/plain": [
       "    Unnamed: 0\n",
       "0         Name\n",
       "1        01GN1\n",
       "2        01GN2\n",
       "3        01GZ1\n",
       "4        01GZ2\n",
       "..         ...\n",
       "975      69FN1\n",
       "976      69FZ1\n",
       "977      69GN1\n",
       "978      69GN2\n",
       "979      69HN1\n",
       "\n",
       "[980 rows x 1 columns]"
      ]
     },
     "execution_count": 8,
     "metadata": {},
     "output_type": "execute_result"
    }
   ],
   "source": [
    "table_list_ = pd.read_csv('data/arcgis_names.csv')\n",
    "table_list_ = table_list_.drop('Unnamed: 1', axis='columns')\n",
    "table_list_ = table_list_.dropna()\n",
    "table_list_ = table_list_.reset_index(drop=True)\n",
    "\n",
    "\n",
    "table_list_"
   ]
  },
  {
   "cell_type": "code",
   "execution_count": 23,
   "metadata": {},
   "outputs": [],
   "source": [
    "table_list = pd.read_csv('data/arcgis_names.csv')"
   ]
  },
  {
   "cell_type": "code",
   "execution_count": 26,
   "metadata": {},
   "outputs": [],
   "source": [
    "table_list = table_list.drop('Unnamed: 1', axis='columns')"
   ]
  },
  {
   "cell_type": "code",
   "execution_count": 28,
   "metadata": {},
   "outputs": [
    {
     "data": {
      "text/html": [
       "<div>\n",
       "<style scoped>\n",
       "    .dataframe tbody tr th:only-of-type {\n",
       "        vertical-align: middle;\n",
       "    }\n",
       "\n",
       "    .dataframe tbody tr th {\n",
       "        vertical-align: top;\n",
       "    }\n",
       "\n",
       "    .dataframe thead th {\n",
       "        text-align: right;\n",
       "    }\n",
       "</style>\n",
       "<table border=\"1\" class=\"dataframe\">\n",
       "  <thead>\n",
       "    <tr style=\"text-align: right;\">\n",
       "      <th></th>\n",
       "      <th>Unnamed: 0</th>\n",
       "    </tr>\n",
       "  </thead>\n",
       "  <tbody>\n",
       "    <tr>\n",
       "      <th>0</th>\n",
       "      <td>Name</td>\n",
       "    </tr>\n",
       "    <tr>\n",
       "      <th>1</th>\n",
       "      <td>01GN1</td>\n",
       "    </tr>\n",
       "    <tr>\n",
       "      <th>2</th>\n",
       "      <td>01GN2</td>\n",
       "    </tr>\n",
       "    <tr>\n",
       "      <th>3</th>\n",
       "      <td>01GZ1</td>\n",
       "    </tr>\n",
       "    <tr>\n",
       "      <th>4</th>\n",
       "      <td>01GZ2</td>\n",
       "    </tr>\n",
       "    <tr>\n",
       "      <th>...</th>\n",
       "      <td>...</td>\n",
       "    </tr>\n",
       "    <tr>\n",
       "      <th>975</th>\n",
       "      <td>69FN1</td>\n",
       "    </tr>\n",
       "    <tr>\n",
       "      <th>976</th>\n",
       "      <td>69FZ1</td>\n",
       "    </tr>\n",
       "    <tr>\n",
       "      <th>977</th>\n",
       "      <td>69GN1</td>\n",
       "    </tr>\n",
       "    <tr>\n",
       "      <th>978</th>\n",
       "      <td>69GN2</td>\n",
       "    </tr>\n",
       "    <tr>\n",
       "      <th>979</th>\n",
       "      <td>69HN1</td>\n",
       "    </tr>\n",
       "  </tbody>\n",
       "</table>\n",
       "<p>980 rows × 1 columns</p>\n",
       "</div>"
      ],
      "text/plain": [
       "    Unnamed: 0\n",
       "0         Name\n",
       "1        01GN1\n",
       "2        01GN2\n",
       "3        01GZ1\n",
       "4        01GZ2\n",
       "..         ...\n",
       "975      69FN1\n",
       "976      69FZ1\n",
       "977      69GN1\n",
       "978      69GN2\n",
       "979      69HN1\n",
       "\n",
       "[980 rows x 1 columns]"
      ]
     },
     "execution_count": 28,
     "metadata": {},
     "output_type": "execute_result"
    }
   ],
   "source": [
    "table_list = table_list.dropna()\n",
    "table_list = table_list.reset_index(drop=True)\n",
    "table_list"
   ]
  },
  {
   "cell_type": "code",
   "execution_count": 14,
   "metadata": {},
   "outputs": [],
   "source": [
    "table_list = table_list.drop('Unnamed: 1', axis='columns')"
   ]
  },
  {
   "cell_type": "code",
   "execution_count": 15,
   "metadata": {},
   "outputs": [],
   "source": [
    "table_list = table_list.drop([0,1,2,3,4])"
   ]
  },
  {
   "cell_type": "code",
   "execution_count": 17,
   "metadata": {},
   "outputs": [],
   "source": [
    "table_list = table_list.dropna()"
   ]
  },
  {
   "cell_type": "code",
   "execution_count": 21,
   "metadata": {},
   "outputs": [
    {
     "data": {
      "text/html": [
       "<div>\n",
       "<style scoped>\n",
       "    .dataframe tbody tr th:only-of-type {\n",
       "        vertical-align: middle;\n",
       "    }\n",
       "\n",
       "    .dataframe tbody tr th {\n",
       "        vertical-align: top;\n",
       "    }\n",
       "\n",
       "    .dataframe thead th {\n",
       "        text-align: right;\n",
       "    }\n",
       "</style>\n",
       "<table border=\"1\" class=\"dataframe\">\n",
       "  <thead>\n",
       "    <tr style=\"text-align: right;\">\n",
       "      <th></th>\n",
       "      <th>Name</th>\n",
       "    </tr>\n",
       "  </thead>\n",
       "  <tbody>\n",
       "    <tr>\n",
       "      <th>0</th>\n",
       "      <td>01CZ1</td>\n",
       "    </tr>\n",
       "    <tr>\n",
       "      <th>1</th>\n",
       "      <td>https://ns_hwh.fundaments.nl/hwh-ahn/ahn4/02a_...</td>\n",
       "    </tr>\n",
       "    <tr>\n",
       "      <th>2</th>\n",
       "      <td>https://ns_hwh.fundaments.nl/hwh-ahn/ahn4/02b_...</td>\n",
       "    </tr>\n",
       "    <tr>\n",
       "      <th>3</th>\n",
       "      <td>https://ns_hwh.fundaments.nl/hwh-ahn/ahn4/03a_...</td>\n",
       "    </tr>\n",
       "    <tr>\n",
       "      <th>4</th>\n",
       "      <td>https://ns_hwh.fundaments.nl/hwh-ahn/ahn4/03b_...</td>\n",
       "    </tr>\n",
       "    <tr>\n",
       "      <th>...</th>\n",
       "      <td>...</td>\n",
       "    </tr>\n",
       "    <tr>\n",
       "      <th>4890</th>\n",
       "      <td>69HN1</td>\n",
       "    </tr>\n",
       "    <tr>\n",
       "      <th>4891</th>\n",
       "      <td>https://ns_hwh.fundaments.nl/hwh-ahn/ahn4/02a_...</td>\n",
       "    </tr>\n",
       "    <tr>\n",
       "      <th>4892</th>\n",
       "      <td>https://ns_hwh.fundaments.nl/hwh-ahn/ahn4/02b_...</td>\n",
       "    </tr>\n",
       "    <tr>\n",
       "      <th>4893</th>\n",
       "      <td>https://ns_hwh.fundaments.nl/hwh-ahn/ahn4/03a_...</td>\n",
       "    </tr>\n",
       "    <tr>\n",
       "      <th>4894</th>\n",
       "      <td>https://ns_hwh.fundaments.nl/hwh-ahn/ahn4/03b_...</td>\n",
       "    </tr>\n",
       "  </tbody>\n",
       "</table>\n",
       "<p>4895 rows × 1 columns</p>\n",
       "</div>"
      ],
      "text/plain": [
       "                                                   Name\n",
       "0                                                 01CZ1\n",
       "1     https://ns_hwh.fundaments.nl/hwh-ahn/ahn4/02a_...\n",
       "2     https://ns_hwh.fundaments.nl/hwh-ahn/ahn4/02b_...\n",
       "3     https://ns_hwh.fundaments.nl/hwh-ahn/ahn4/03a_...\n",
       "4     https://ns_hwh.fundaments.nl/hwh-ahn/ahn4/03b_...\n",
       "...                                                 ...\n",
       "4890                                              69HN1\n",
       "4891  https://ns_hwh.fundaments.nl/hwh-ahn/ahn4/02a_...\n",
       "4892  https://ns_hwh.fundaments.nl/hwh-ahn/ahn4/02b_...\n",
       "4893  https://ns_hwh.fundaments.nl/hwh-ahn/ahn4/03a_...\n",
       "4894  https://ns_hwh.fundaments.nl/hwh-ahn/ahn4/03b_...\n",
       "\n",
       "[4895 rows x 1 columns]"
      ]
     },
     "execution_count": 21,
     "metadata": {},
     "output_type": "execute_result"
    }
   ],
   "source": [
    "table_list.reset_index(drop=True)"
   ]
  },
  {
   "cell_type": "code",
   "execution_count": 22,
   "metadata": {},
   "outputs": [
    {
     "data": {
      "text/plain": [
       "979.0"
      ]
     },
     "execution_count": 22,
     "metadata": {},
     "output_type": "execute_result"
    }
   ],
   "source": []
  },
  {
   "cell_type": "code",
   "execution_count": 9,
   "metadata": {},
   "outputs": [
    {
     "data": {
      "text/html": [
       "<div>\n",
       "<style scoped>\n",
       "    .dataframe tbody tr th:only-of-type {\n",
       "        vertical-align: middle;\n",
       "    }\n",
       "\n",
       "    .dataframe tbody tr th {\n",
       "        vertical-align: top;\n",
       "    }\n",
       "\n",
       "    .dataframe thead th {\n",
       "        text-align: right;\n",
       "    }\n",
       "</style>\n",
       "<table border=\"1\" class=\"dataframe\">\n",
       "  <thead>\n",
       "    <tr style=\"text-align: right;\">\n",
       "      <th></th>\n",
       "      <th>Name</th>\n",
       "      <th>AHN4_DTM_05m</th>\n",
       "      <th>AHN4_DTM_5m</th>\n",
       "      <th>AHN4_DSM_05m</th>\n",
       "      <th>AHN4_DSM_5m</th>\n",
       "    </tr>\n",
       "  </thead>\n",
       "  <tbody>\n",
       "  </tbody>\n",
       "</table>\n",
       "</div>"
      ],
      "text/plain": [
       "Empty DataFrame\n",
       "Columns: [Name, AHN4_DTM_05m, AHN4_DTM_5m, AHN4_DSM_05m, AHN4_DSM_5m]\n",
       "Index: []"
      ]
     },
     "execution_count": 9,
     "metadata": {},
     "output_type": "execute_result"
    }
   ],
   "source": [
    "data = {'Name': [],\n",
    "'AHN4_DTM_05m': [],\n",
    "'AHN4_DTM_5m': [],\n",
    "'AHN4_DSM_05m': [],\n",
    "'AHN4_DSM_5m': []}\n",
    "\n",
    "df = pd.DataFrame(data)\n",
    "df"
   ]
  }
 ],
 "metadata": {
  "kernelspec": {
   "display_name": "Python 3.9.12 ('pytorch')",
   "language": "python",
   "name": "python3"
  },
  "language_info": {
   "codemirror_mode": {
    "name": "ipython",
    "version": 3
   },
   "file_extension": ".py",
   "mimetype": "text/x-python",
   "name": "python",
   "nbconvert_exporter": "python",
   "pygments_lexer": "ipython3",
   "version": "3.9.12"
  },
  "orig_nbformat": 4,
  "vscode": {
   "interpreter": {
    "hash": "8af92737554b8d7e77b438513b3bb470b0fcb31762f2300d530491e7c048b893"
   }
  }
 },
 "nbformat": 4,
 "nbformat_minor": 2
}
