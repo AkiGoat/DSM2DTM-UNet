{
 "cells": [
  {
   "cell_type": "code",
   "execution_count": 1,
   "metadata": {},
   "outputs": [],
   "source": [
    "import pandas as pd\n",
    "import numpy as py\n",
    "from tqdm import tqdm\n",
    "import requests\n",
    "from io import BytesIO\n",
    "from zipfile import ZipFile\n",
    "import os\n",
    "import shutil"
   ]
  },
  {
   "cell_type": "code",
   "execution_count": 7,
   "metadata": {},
   "outputs": [],
   "source": [
    "dic_zone = {}\n",
    "dic_zone['zone_1'] = [\n",
    "    '05EZ1', '05EZ2', '05FZ1', '05FZ2', '06AZ1', '06AZ2', '06BZ1', '06BZ2',\n",
    "    '06EZ1', '06EZ2', '06FZ1', '06FZ2', '05GN1', '05GN2', '05HN1', '05HN2',\n",
    "    '06CN1', '06CN2', '06DN1', '06DN2', '06GN1', '06GN2', '06HN1', '06HN2',\n",
    "    '05GZ1', '05GZ2', '05HZ1', '05HZ2', '06CZ1', '06CZ2', '06DZ1', '06DZ2',\n",
    "    '06GZ1', '06GZ2', '06HZ1', '06HZ2', '10EN1', '10EN2', '10FN1', '10FN2',\n",
    "    '11AN1', '11AN2', '11BN1', '11BN2', '11EN1', '11EN2', '11FN1', '11FN2',\n",
    "    '10EZ1', '10EZ2', '10FZ1', '10FZ2', '11AZ1', '11AZ2', '11BZ1', '11BZ2',\n",
    "    '11EZ1', '11EZ2', '11FZ1', '11FZ2', '10GN1', '10GN2', '10HN1', '10HN2',\n",
    "    '11CN1', '11CN2', '11DN1', '11DN2', '11GN1', '11GN2', '11HN1', '11HN2',\n",
    "    '10GZ1', '10GZ2', '10HZ1', '10HZ2', '11CZ1', '11CZ2', '11DZ1', '11DZ2',\n",
    "    '11GZ1', '11GZ2', '11HZ1', '11HZ2', '15EN1', '15EN2', '15FN1', '15FN2',\n",
    "    '16AN1', '16AN2', '16BN1', '16BN2', '16EN1', '16EN2', '16FN1', '16FN2'\n",
    "]\n",
    "\n",
    "dic_zone_['zone_2'] = [\n",
    "    '14AZ2', '14BZ1', '14BZ2', '14EZ1', '14EZ2', '14FZ1', '14FZ2', '14CN2',\n",
    "    '14DN1', '14DN2', '14GN1', '14GN2', '14HN1', '14HN2', '14CZ2', '14DZ1',\n",
    "    '14DZ2', '14GZ1', '14GZ2', '14HZ1', '14HZ2', '19AN2', '19BN1', '19BN2',\n",
    "    '19EN1', '19EN2', '19FN1', '19FN2', '19AZ2', '19BZ1', '19BZ2', '19EZ1',\n",
    "    '19EZ2', '19FZ1', '19FZ2'\n",
    "]\n",
    "\n",
    "dic_zone['zone_3'] = [\n",
    "    '19CN1', '19CN2', '19DN1', '19DN2', '19GN1', '19GN2', '19HN1', '19HN2',\n",
    "    '20CN1', '20CN2', '20DN1', '20DN2', '20GN1', '20GN2', '20HN1', '20HN2',\n",
    "    '21CN1', '19CZ1', '19CZ2', '19DZ1', '19DZ2', '19GZ1', '19GZ2', '19HZ1',\n",
    "    '19HZ2', '20CZ1', '20CZ2', '20DZ1', '20DZ2', '20GZ1', '20GZ2', '20HZ1',\n",
    "    '20HZ2', '21CZ1', '25AN1', '25AN2', '25BN1', '25BN2', '25EN1', '25EN2',\n",
    "    '25FN1', '25FN2', '26AN1', '26AN2', '26BN1', '26BN2', '26EN1', '26EN2',\n",
    "    '26FN1', '26FN2', '27AN1', '25AZ1', '25AZ2', '25BZ1', '25BZ2', '25EZ1',\n",
    "    '25EZ2', '25FZ1', '25FZ2', '26AZ1', '26AZ2', '26BZ1', '26BZ2', '26EZ1',\n",
    "    '26EZ2', '26FZ1', '26FZ2', '27AZ1', '25CN1', '25CN2', '25DN1', '25DN2',\n",
    "    '25GN1', '25GN2', '25HN1', '25HN2', '26CN1', '26CN2', '26DN1', '26DN2',\n",
    "    '26GN1', '26GN2', '26HN1', '26HN2', '27CN1', '25CZ1', '25CZ2', '25DZ1',\n",
    "    '25DZ2', '25GZ1', '25GZ2', '25HZ1', '25HZ2', '26CZ1', '26CZ2', '26DZ1',\n",
    "    '26DZ2', '26GZ1', '26GZ2', '26HZ1', '26HZ2', '27CZ1', '31AN1', '31AN2',\n",
    "    '31BN1', '31BN2', '31EN1', '31EN2', '31FN1', '31FN2', '32AN1', '32AN2',\n",
    "    '32BN1', '32BN2', '32EN1', '32EN2', '32FN1', '32FN2', '33AN1'\n",
    "]\n",
    "\n",
    "dic_zone['zone_4'] = [\n",
    "    '36FN2', '37AN1', '37AN2', '37BN1', '37BN2', '37EN1', '36FZ2', '37AZ1',\n",
    "    '37AZ2', '37BZ1', '37BZ2', '37EZ1', '36HN2', '37CN1', '37CN2', '37DN1',\n",
    "    '37DN2', '37GN1', '64FN2', '37CZ1', '37CZ2', '37DZ1', '37DZ2', '37GZ1',\n",
    "    '64FZ2', '43AN1', '43AN2', '43BN1', '43BN2', '43EN1', '64HN2', '43AZ1',\n",
    "    '43AZ2', '43BZ1', '43BZ2', '43EZ1', '64HZ2', '43CN1', '43CN2', '43DN1',\n",
    "    '43DN2', '43GN1'\n",
    "]\n",
    "\n",
    "dic_zone['zone_5'] = [\n",
    "    '30EZ2', '30FZ1', '30FZ2', '31AZ1', '31AZ2', '31BZ1', '31BZ2', '31EZ1',\n",
    "    '31EZ2', '31FZ1', '31FZ2', '30GN2', '30HN1', '30HN2', '31CN1', '31CN2',\n",
    "    '31DN1', '31DN2', '31GN1', '31GN2', '31HN1', '31HN2', '30GZ2', '30HZ1',\n",
    "    '30HZ2', '31CZ1', '31CZ2', '31DZ1', '31DZ2', '31GZ1', '31GZ2', '31HZ1',\n",
    "    '31HZ2', '37EN2', '37FN1', '37FN2', '38AN1', '38AN2', '38BN1', '38BN2',\n",
    "    '38EN1', '38EN2', '38FN1', '38FN2', '37EZ2', '37FZ1', '37FZ2', '38AZ1',\n",
    "    '38AZ2', '38BZ1', '38BZ2', '38EZ1', '38EZ2', '38FZ1', '38FZ2', '37GN2',\n",
    "    '37HN1', '37HN2', '38CN1', '38CN2', '38DN1', '38DN2', '38GN1', '38GN2',\n",
    "    '38HN1', '38HN2', '37GZ2', '37HZ1', '37HZ2', '38CZ1', '38CZ2', '38DZ1',\n",
    "    '38DZ2', '38GZ1', '38GZ2', '38HZ1', '38HZ2', '43EN2', '43FN1', '43FN2',\n",
    "    '44AN1', '44AN2', '44BN1', '44BN2', '44EN1', '44EN2', '44FN1', '44FN2',\n",
    "    '43EZ2', '43FZ1', '43FZ2', '44AZ1', '44AZ2', '44BZ1', '44BZ2', '44EZ1',\n",
    "    '44EZ2', '44FZ1', '44FZ2', '43GN2', '43HN1', '43HN2', '44CN1', '44CN2',\n",
    "    '44DN1', '44DN2', '44GN1', '44GN2', '44HN1', '44HN2', '43GZ2', '43HZ1',\n",
    "    '43HZ2', '44CZ1', '44CZ2', '44DZ1', '44DZ2', '44GZ1', '44GZ2', '44HZ1',\n",
    "    '44HZ2', '49EN2', '49FN1', '49FN2', '50AN1', '50AN2', '50BN1', '50BN2',\n",
    "    '50EN1', '50EN2', '50FN1', '50FN2', '49EZ2', '49FZ1', '49FZ2', '50AZ1',\n",
    "    '50AZ2', '50BZ1', '50BZ2', '50EZ1', '50EZ2', '50FZ1', '50FZ2', '49GN2',\n",
    "    '49HN1', '49HN2', '50CN1', '50CN2', '50DN1', '50DN2', '50GN1', '50GN2',\n",
    "    '50HN1', '50HN2'\n",
    "]\n",
    "\n",
    "dic_zone['zone_6'] = [\n",
    "    '32AZ1', '32AZ2', '32BZ1', '32BZ2', '32CN1', '32CN2', '32DN1', '32DN2',\n",
    "    '32CZ1', '32CZ2', '32DZ1', '32DZ2', '39AN1', '39AN2', '39BN1', '39BN2'\n",
    "]\n",
    "\n",
    "dic_zone['zone_7'] = [\n",
    "    '39AZ1', '39AZ2', '39BZ1', '39BZ2', '39EZ1', '39EZ2', '39FZ1', '39FZ2',\n",
    "    '40AZ1', '40AZ2', '40BZ1', '40BZ2', '39CN1', '39CN2', '39DN1', '39DN2',\n",
    "    '39GN1', '39GN2', '39HN1', '39HN2', '40CN1', '40CN2', '40DN1', '40DN2',\n",
    "    '39CZ1', '39CZ2', '39DZ1', '39DZ2', '39GZ1', '39GZ2', '39HZ1', '39HZ2',\n",
    "    '40CZ1', '40CZ2', '40DZ1', '40DZ2', '45AN1', '45AN2', '45BN1', '45BN2',\n",
    "    '45EN1', '45EN2', '45FN1', '45FN2', '46AN1', '46AN2', '46BN1', '46BN2',\n",
    "    '45AZ1', '45AZ2', '45BZ1', '45BZ2', '45EZ1', '45EZ2', '45FZ1', '45FZ2',\n",
    "    '46AZ1', '46AZ2', '46BZ1', '46BZ2'\n",
    "]\n",
    "\n",
    "dic_zone['zone_8'] = [\n",
    "    '65AN1', '65AN2', '65BN1', '65BN2', '65EN1', '65EN2', '65FN1', '65FN2',\n",
    "    '43CZ1', '43CZ2', '43DZ1', '65AZ1', '65AZ2', '65BZ1', '65BZ2', '65EZ1',\n",
    "    '65EZ2', '65FZ1', '65FZ2', '49AN1', '49AN2', '49BN1', '65CN1', '65CN2',\n",
    "    '65DN1', '65DN2', '65GN1', '65GN2', '65HN1', '65HN2', '49AZ1', '49AZ2',\n",
    "    '49BZ1', '65CZ1', '65CZ2', '65DZ1', '65DZ2', '65GZ1', '65GZ2', '65HZ1',\n",
    "    '65HZ2', '49CN1', '49CN2', '49DN1', '67AN1', '67AN2', '67BN1', '67BN2',\n",
    "    '67EN1', '67EN2', '67FN1', '67FN2', '49CZ1', '49CZ2', '49DZ1', '67AZ1',\n",
    "    '67AZ2', '67BZ1', '67BZ2', '67EZ1', '67EZ2', '67FZ1', '67FZ2', '55AN1',\n",
    "    '55AN2', '55BN1', '67CN1', '67CN2', '67DN1', '67DN2', '67GN1', '67GN2',\n",
    "    '67HN1', '67HN2', '55AZ1', '55AZ2', '55BZ1'\n",
    "]\n",
    "\n",
    "dic_zone['zone_9'] = [\n",
    "    '45CN1', '45CN2', '45DN1', '45DN2', '45GN1', '45GN2', '45HN1', '45CZ1',\n",
    "    '45CZ2', '45DZ1', '45DZ2', '45GZ1', '45GZ2', '45HZ1', '51AN1', '51AN2',\n",
    "    '51BN1', '51BN2', '51EN1', '51EN2', '51FN1', '51AZ1', '51AZ2', '51BZ1',\n",
    "    '51BZ2', '51EZ1', '51EZ2', '51FZ1', '51CN1', '51CN2', '51DN1', '51DN2',\n",
    "    '51GN1', '51GN2', '51HN1', '51CZ1', '51CZ2', '51DZ1', '51DZ2', '51GZ1',\n",
    "    '51GZ2', '51HZ1', '57AN1', '57AN2', '57BN1', '57BN2', '57EN1', '57EN2',\n",
    "    '57FN1', '57AZ1', '57AZ2', '57BZ1', '57BZ2', '57EZ1', '57EZ2', '57FZ1'\n",
    "]\n",
    "\n",
    "dic_zone['zone_10'] = [\n",
    "    '45HN2', '46CN1', '46CN2', '46DN1', '46DN2', '46GN1', '46GN2', '45HZ2',\n",
    "    '46CZ1', '46CZ2', '46DZ1', '46DZ2', '46GZ1', '46GZ2', '51FN2', '52AN1',\n",
    "    '52AN2', '52BN1', '52BN2', '52EN1', '52EN2', '51FZ2', '52AZ1', '52AZ2',\n",
    "    '52BZ1', '52BZ2', '52EZ1', '52EZ2', '51HN2', '52CN1', '52CN2', '52DN1',\n",
    "    '52DN2', '52GN1', '52GN2', '51HZ2', '52CZ1', '52CZ2', '52DZ1', '52DZ2',\n",
    "    '52GZ1', '52GZ2', '57FN2', '58AN1', '58AN2', '58BN1', '58BN2', '58EN1',\n",
    "    '58EN2', '57FZ2', '58AZ1', '58AZ2', '58BZ1', '58BZ2', '58EZ1', '58EZ2',\n",
    "    '57HN2', '58CN1', '58CN2', '58DN1', '58DN2', '58GN1', '58GN2', '57HZ2',\n",
    "    '58CZ1', '58CZ2', '58DZ1', '58DZ2', '58GZ1', '58GZ2'\n",
    "]\n",
    "\n",
    "dic_zone['zone_11'] = [\n",
    "    '68CZ2', '68DZ1', '68DZ2', '68GZ1', '68GZ2', '68HZ1', '69AN2', '69BN1',\n",
    "    '69BN2', '69EN1', '69EN2', '69FN1', '69AZ2', '69BZ1', '69BZ2', '69EZ1',\n",
    "    '69EZ2', '69FZ1', '69CN2', '69DN1', '69DN2', '69GN1', '69GN2', '69HN1'\n",
    "]\n"
   ]
  },
  {
   "cell_type": "code",
   "execution_count": 2,
   "metadata": {},
   "outputs": [],
   "source": [
    "dic_zone_ = {}\n",
    "dic_zone_['zone1'] = [\n",
    "    '05GN2', '05HN1', '05HN2', '06CN1', '06CN2', '06DN1', '06DN2', '06GN1',\n",
    "    '05GZ2', '05HZ1', '05HZ2', '06CZ1', '06CZ2', '06DZ1', '06DZ2', '06GZ1',\n",
    "    '10EN2', '10FN1', '10FN2', '11AN1', '11AN2', '11BN1', '11BN2', '11EN1',\n",
    "    '10EZ2', '10FZ1', '10FZ2', '11AZ1', '11AZ2', '11BZ1', '11BZ2', '11EZ1',\n",
    "    '10GN2', '10HN1', '10HN2', '11CN1', '11CN2', '11DN1', '11DN2', '11GN1',\n",
    "    '10GZ2', '10HZ1', '10HZ2', '11CZ1', '11CZ2', '11DZ1', '11DZ2', '11GZ1',\n",
    "    '15EN2', '15FN1', '15FN2', '16AN1', '16AN2', '16BN1', '16BN2', '16EN1'\n",
    "]\n",
    "\n",
    "dic_zone_['zone2'] = [\n",
    "    '14BZ1', '14BZ2', '14EZ1', '14EZ2', '14FZ1', '14DN1', '14DN2', '14GN1',\n",
    "    '14GN2', '14HN1', '14DZ1', '14DZ2', '14GZ1', '14GZ2', '14HZ1', '19BN1',\n",
    "    '19BN2', '19EN1', '19EN2', '19FN1', '19BZ1', '19BZ2', '19EZ1', '19EZ2',\n",
    "    '19FZ1'\n",
    "]\n",
    "\n",
    "dic_zone_['zone3'] = [\n",
    "    '19CN2', '19DN1', '19DN2', '19GN1', '19GN2', '19CZ2', '19DZ1', '19DZ2',\n",
    "    '19GZ1', '19GZ2', '25AN2', '25BN1', '25BN2', '25EN1', '25EN2', '25AZ2',\n",
    "    '25BZ1', '25BZ2', '25EZ1', '25EZ2', '25CN2', '25DN1', '25DN2', '25GN1',\n",
    "    '25GN2', '25CZ2', '25DZ1', '25DZ2', '25GZ1', '25GZ2', '31AN2', '31BN1',\n",
    "    '31BN2', '31EN1', '31EN2'\n",
    "]\n",
    "\n",
    "dic_zone_['zone4'] = [\n",
    "    '26BN1', '26BN2', '26EN1', '26EN2', '26FN1', '26BZ1', '26BZ2', '26EZ1',\n",
    "    '26EZ2', '26FZ1', '26DN1', '26DN2', '26GN1', '26GN2', '26HN1', '26DZ1',\n",
    "    '26DZ2', '26GZ1', '26GZ2', '26HZ1', '32BN1', '32BN2', '32EN1', '32EN2',\n",
    "    '32FN1'\n",
    "]\n",
    "\n",
    "dic_zone_['zone5'] = [\n",
    "    '30EZ2', '30FZ1', '30FZ2', '31AZ1', '31AZ2', '31BZ1', '31BZ2', '31EZ1',\n",
    "    '31EZ2', '31FZ1', '31FZ2', '32AZ1', '32AZ2', '32BZ1', '30GN2', '30HN1',\n",
    "    '30HN2', '31CN1', '31CN2', '31DN1', '31DN2', '31GN1', '31GN2', '31HN1',\n",
    "    '31HN2', '32CN1', '32CN2', '32DN1', '30GZ2', '30HZ1', '30HZ2', '31CZ1',\n",
    "    '31CZ2', '31DZ1', '31DZ2', '31GZ1', '31GZ2', '31HZ1', '31HZ2', '32CZ1',\n",
    "    '32CZ2', '32DZ1', '37EN2', '37FN1', '37FN2', '38AN1', '38AN2', '38BN1',\n",
    "    '38BN2', '38EN1', '38EN2', '38FN1', '38FN2', '39AN1', '39AN2', '39BN1'\n",
    "]\n",
    "\n",
    "dic_zone_['zone6'] = [\n",
    "    '37BZ2', '37EZ1', '37EZ2', '37FZ1', '37FZ2', '38AZ1', '38AZ2', '38BZ1',\n",
    "    '38BZ2', '38EZ1', '38EZ2', '38FZ1', '37DN2', '37GN1', '37GN2', '37HN1',\n",
    "    '37HN2', '38CN1', '38CN2', '38DN1', '38DN2', '38GN1', '38GN2', '38HN1',\n",
    "    '37DZ2', '37GZ1', '37GZ2', '37HZ1', '37HZ2', '38CZ1', '38CZ2', '38DZ1',\n",
    "    '38DZ2', '38GZ1', '38GZ2', '38HZ1', '43BN2', '43EN1', '43EN2', '43FN1',\n",
    "    '43FN2', '44AN1', '44AN2', '44BN1', '44BN2', '44EN1', '44EN2', '44FN1',\n",
    "    '43BZ2', '43EZ1', '43EZ2', '43FZ1', '43FZ2', '44AZ1', '44AZ2', '44BZ1',\n",
    "    '44BZ2', '44EZ1', '44EZ2', '44FZ1', '43DN2', '43GN1', '43GN2', '43HN1',\n",
    "    '43HN2', '44CN1', '44CN2', '44DN1', '44DN2', '44GN1', '44GN2', '44HN1',\n",
    "    '43DZ2', '43GZ1', '43GZ2', '43HZ1', '43HZ2', '44CZ1', '44CZ2', '44DZ1',\n",
    "    '44DZ2', '44GZ1', '44GZ2', '44HZ1', '49BN2', '49EN1', '49EN2', '49FN1',\n",
    "    '49FN2', '50AN1', '50AN2', '50BN1', '50BN2', '50EN1', '50EN2', '50FN1'\n",
    "]\n",
    "\n",
    "dic_zone_['zone7'] = [\n",
    "    '38FZ2', '39AZ1', '39AZ2', '39BZ1', '39BZ2', '39EZ1', '39EZ2', '39FZ1',\n",
    "    '39FZ2', '40AZ1', '40AZ2', '38HN2', '39CN1', '39CN2', '39DN1', '39DN2',\n",
    "    '39GN1', '39GN2', '39HN1', '39HN2', '40CN1', '40CN2', '38HZ2', '39CZ1',\n",
    "    '39CZ2', '39DZ1', '39DZ2', '39GZ1', '39GZ2', '39HZ1', '39HZ2', '40CZ1',\n",
    "    '40CZ2', '44FN2', '45AN1', '45AN2', '45BN1', '45BN2', '45EN1', '45EN2',\n",
    "    '45FN1', '45FN2', '46AN1', '46AN2', '44FZ2', '45AZ1', '45AZ2', '45BZ1',\n",
    "    '45BZ2', '45EZ1', '45EZ2', '45FZ1', '45FZ2', '46AZ1', '46AZ2', '44HN2',\n",
    "    '45CN1', '45CN2', '45DN1', '45DN2', '45GN1', '45GN2', '45HN1', '45HN2',\n",
    "    '46CN1', '46CN2', '44HZ2', '45CZ1', '45CZ2', '45DZ1', '45DZ2', '45GZ1',\n",
    "    '45GZ2', '45HZ1', '45HZ2', '46CZ1', '46CZ2'\n",
    "]\n",
    "\n",
    "dic_zone_['zone8'] = [\n",
    "    '65AZ2', '65BZ1', '65BZ2', '65EZ1', '65EZ2', '65FZ1', '65FZ2', '49AN1',\n",
    "    '49AN2', '65CN2', '65DN1', '65DN2', '65GN1', '65GN2', '65HN1', '65HN2',\n",
    "    '49AZ1', '49AZ2', '65CZ2', '65DZ1', '65DZ2', '65GZ1', '65GZ2', '65HZ1',\n",
    "    '65HZ2', '49CN1', '49CN2', '67AN2', '67BN1', '67BN2', '67EN1', '67EN2',\n",
    "    '67FN1', '67FN2', '49CZ1', '49CZ2', '67AZ2', '67BZ1', '67BZ2', '67EZ1',\n",
    "    '67EZ2', '67FZ1', '67FZ2', '55AN1', '55AN2'\n",
    "]\n",
    "\n",
    "dic_zone_['zone9'] = [\n",
    "    '50FN2', '51AN1', '51AN2', '51BN1', '51BN2', '51EN1', '51EN2', '50FZ2',\n",
    "    '51AZ1', '51AZ2', '51BZ1', '51BZ2', '51EZ1', '51EZ2', '50HN2', '51CN1',\n",
    "    '51CN2', '51DN1', '51DN2', '51GN1', '51GN2', '50HZ2', '51CZ1', '51CZ2',\n",
    "    '51DZ1', '51DZ2', '51GZ1', '51GZ2'\n",
    "]\n",
    "\n",
    "dic_zone_['zone10'] = [\n",
    "    '51FN1', '51FN2', '52AN1', '52AN2', '52BN1', '52BN2', '52EN1', '51FZ1',\n",
    "    '51FZ2', '52AZ1', '52AZ2', '52BZ1', '52BZ2', '52EZ1', '51HN1', '51HN2',\n",
    "    '52CN1', '52CN2', '52DN1', '52DN2', '52GN1', '51HZ1', '51HZ2', '52CZ1',\n",
    "    '52CZ2', '52DZ1', '52DZ2', '52GZ1', '57FN1', '57FN2', '58AN1', '58AN2',\n",
    "    '58BN1', '58BN2', '58EN1', '57FZ1', '57FZ2', '58AZ1', '58AZ2', '58BZ1',\n",
    "    '58BZ2', '58EZ1'\n",
    "]\n"
   ]
  },
  {
   "cell_type": "code",
   "execution_count": 3,
   "metadata": {},
   "outputs": [
    {
     "name": "stdout",
     "output_type": "stream",
     "text": [
      "485\n"
     ]
    }
   ],
   "source": [
    "count = 0\n",
    "for key in dic_zone_:\n",
    "    for p in dic_zone_[key]:\n",
    "        count = count + 1\n",
    "print(count)"
   ]
  },
  {
   "cell_type": "code",
   "execution_count": 4,
   "metadata": {},
   "outputs": [
    {
     "name": "stderr",
     "output_type": "stream",
     "text": [
      "100%|██████████| 485/485 [00:18<00:00, 26.26it/s]\n"
     ]
    }
   ],
   "source": [
    "dic_re = {}\n",
    "\n",
    "path_local = '/Volumes/T7/Grad Project/Data/ANH4_n/'\n",
    "pbar = tqdm(total=count)\n",
    "extension = '.TIF'\n",
    "list_file = os.listdir(path_local)\n",
    "for it in dic_zone_:\n",
    "    dic_re[it] = []\n",
    "    if not os.path.exists(path_local + it):\n",
    "        os.makedirs(path_local + it)\n",
    "    for p in dic_zone_[it]:\n",
    "        pbar.update(1)\n",
    "        if 'M5_' + p + '.TIF' in list_file:\n",
    "            shutil.copy2(path_local + 'M5_' + p + '.TIF', path_local + it)\n",
    "        else:\n",
    "            dic_re[it].append(p)\n",
    "        if 'R5_' + p + '.TIF' in list_file:\n",
    "            shutil.copy2(path_local + 'R5_' + p + '.TIF', path_local + it)\n",
    "\n",
    "pbar.close()"
   ]
  },
  {
   "cell_type": "code",
   "execution_count": 5,
   "metadata": {},
   "outputs": [
    {
     "data": {
      "text/plain": [
       "{'zone1': [],\n",
       " 'zone2': [],\n",
       " 'zone3': ['10DZ1'],\n",
       " 'zone4': [],\n",
       " 'zone5': [],\n",
       " 'zone6': ['43DZ2', '43GZ1', '49BN2', '49EN1'],\n",
       " 'zone7': [],\n",
       " 'zone8': [],\n",
       " 'zone9': ['50HZ2'],\n",
       " 'zone10': []}"
      ]
     },
     "execution_count": 5,
     "metadata": {},
     "output_type": "execute_result"
    }
   ],
   "source": [
    "dic_re"
   ]
  },
  {
   "cell_type": "code",
   "execution_count": 5,
   "metadata": {},
   "outputs": [
    {
     "name": "stdout",
     "output_type": "stream",
     "text": [
      "749 0.7423191278493558\n"
     ]
    }
   ],
   "source": [
    "count = 0\n",
    "for key in dic_zone:\n",
    "    count = count + len(dic_zone[key])\n",
    "print(count, count / 1009)\n"
   ]
  },
  {
   "cell_type": "code",
   "execution_count": 7,
   "metadata": {},
   "outputs": [],
   "source": [
    "def getDEM(zone, dict):\n",
    "    path_local = '/Volumes/T7/Grad Project/Data/ANH4_n/' + zone + '/'\n",
    "    if not os.path.exists(path_local):\n",
    "        os.makedirs(path_local)\n",
    "        # print('try to make dir first')\n",
    "        # return\n",
    "    # uid = getpwnam(\"Haoyang Dong\")[2]\n",
    "    # gid = getgrnam(\"staff\")[2]\n",
    "    # os.chown(\"/Volumes/T7/Grad Project/Data/ANH4_n/\", uid, gid)\n",
    "    # Path(path_local).mkdir(parents=True, exist_ok=True)\n",
    "    print(zone + ': ')\n",
    "    print('Downloading...')\n",
    "    for i in tqdm(range(len(dict[zone]))):\n",
    "        url_DTM5 = 'https://ns_hwh.fundaments.nl/hwh-ahn/ahn4/02b_DTM_5m/M5_' + dict[\n",
    "            zone][i] + '.zip'\n",
    "        url_DSM5 = 'https://ns_hwh.fundaments.nl/hwh-ahn/ahn4/03b_DSM_5m/R5_' + dict[\n",
    "            zone][i] + '.zip'\n",
    "        filename_DTM5 = url_DTM5.split('/')[-1]\n",
    "        filename_DSM5 = url_DSM5.split('/')[-1]\n",
    "        # print(url_DTM5, url_DSM5)\n",
    "        r_DTM5 = requests.get(url_DTM5, stream=True)\n",
    "        r_DSM5 = requests.get(url_DSM5, stream=True)\n",
    "\n",
    "        with open(path_local + filename_DTM5, \"wb\") as zip_:\n",
    "            for chunk in r_DTM5.iter_content(chunk_size=1024):\n",
    "                # writing one chunk at a time to pdf file\n",
    "                if chunk:\n",
    "                    zip_.write(chunk)\n",
    "\n",
    "        with open(path_local + filename_DSM5, \"wb\") as zip_:\n",
    "            for chunk in r_DSM5.iter_content(chunk_size=1024):\n",
    "\n",
    "                # writing one chunk at a time to pdf file\n",
    "                if chunk:\n",
    "                    zip_.write(chunk)\n",
    "\n",
    "    print('Unzipping...')\n",
    "    pbar = tqdm(total=len(os.listdir(path_local)))\n",
    "    extension = \".zip\"\n",
    "    for item in os.listdir(path_local):  # loop through items in dir\n",
    "        if item.endswith(extension):  # check for \".zip\" extension\n",
    "            file_name = path_local + item  # get full path of files\n",
    "            zip_ref = ZipFile(file_name)  # create zipfile object\n",
    "            zip_ref.extractall(path_local)  # extract file to dir\n",
    "            zip_ref.close()  # close file\n",
    "            os.remove(file_name)  # delete zipped file\n",
    "            pbar.update(1)\n",
    "    pbar.close()\n"
   ]
  },
  {
   "cell_type": "code",
   "execution_count": 8,
   "metadata": {},
   "outputs": [
    {
     "name": "stdout",
     "output_type": "stream",
     "text": [
      "zone1: \n",
      "Downloading...\n"
     ]
    },
    {
     "name": "stderr",
     "output_type": "stream",
     "text": [
      "0it [00:00, ?it/s]\n"
     ]
    },
    {
     "name": "stdout",
     "output_type": "stream",
     "text": [
      "Unzipping...\n"
     ]
    },
    {
     "name": "stderr",
     "output_type": "stream",
     "text": [
      "  0%|          | 0/112 [00:00<?, ?it/s]\n"
     ]
    },
    {
     "name": "stdout",
     "output_type": "stream",
     "text": [
      "zone2: \n",
      "Downloading...\n"
     ]
    },
    {
     "name": "stderr",
     "output_type": "stream",
     "text": [
      "0it [00:00, ?it/s]\n"
     ]
    },
    {
     "name": "stdout",
     "output_type": "stream",
     "text": [
      "Unzipping...\n"
     ]
    },
    {
     "name": "stderr",
     "output_type": "stream",
     "text": [
      "  0%|          | 0/50 [00:00<?, ?it/s]\n"
     ]
    },
    {
     "name": "stdout",
     "output_type": "stream",
     "text": [
      "zone3: \n",
      "Downloading...\n"
     ]
    },
    {
     "name": "stderr",
     "output_type": "stream",
     "text": [
      "100%|██████████| 1/1 [00:07<00:00,  7.83s/it]\n"
     ]
    },
    {
     "name": "stdout",
     "output_type": "stream",
     "text": [
      "Unzipping...\n"
     ]
    },
    {
     "name": "stderr",
     "output_type": "stream",
     "text": [
      "  3%|▎         | 2/70 [00:00<00:01, 42.86it/s]\n"
     ]
    },
    {
     "name": "stdout",
     "output_type": "stream",
     "text": [
      "zone4: \n",
      "Downloading...\n"
     ]
    },
    {
     "name": "stderr",
     "output_type": "stream",
     "text": [
      "0it [00:00, ?it/s]\n"
     ]
    },
    {
     "name": "stdout",
     "output_type": "stream",
     "text": [
      "Unzipping...\n"
     ]
    },
    {
     "name": "stderr",
     "output_type": "stream",
     "text": [
      "  0%|          | 0/50 [00:00<?, ?it/s]\n"
     ]
    },
    {
     "name": "stdout",
     "output_type": "stream",
     "text": [
      "zone5: \n",
      "Downloading...\n"
     ]
    },
    {
     "name": "stderr",
     "output_type": "stream",
     "text": [
      "0it [00:00, ?it/s]\n"
     ]
    },
    {
     "name": "stdout",
     "output_type": "stream",
     "text": [
      "Unzipping...\n"
     ]
    },
    {
     "name": "stderr",
     "output_type": "stream",
     "text": [
      "  0%|          | 0/112 [00:00<?, ?it/s]\n"
     ]
    },
    {
     "name": "stdout",
     "output_type": "stream",
     "text": [
      "zone6: \n",
      "Downloading...\n"
     ]
    },
    {
     "name": "stderr",
     "output_type": "stream",
     "text": [
      "100%|██████████| 4/4 [00:16<00:00,  4.03s/it]\n"
     ]
    },
    {
     "name": "stdout",
     "output_type": "stream",
     "text": [
      "Unzipping...\n"
     ]
    },
    {
     "name": "stderr",
     "output_type": "stream",
     "text": [
      "  4%|▍         | 8/192 [00:00<00:08, 22.70it/s]\n"
     ]
    },
    {
     "name": "stdout",
     "output_type": "stream",
     "text": [
      "zone7: \n",
      "Downloading...\n"
     ]
    },
    {
     "name": "stderr",
     "output_type": "stream",
     "text": [
      "0it [00:00, ?it/s]\n"
     ]
    },
    {
     "name": "stdout",
     "output_type": "stream",
     "text": [
      "Unzipping...\n"
     ]
    },
    {
     "name": "stderr",
     "output_type": "stream",
     "text": [
      "  0%|          | 0/154 [00:00<?, ?it/s]\n"
     ]
    },
    {
     "name": "stdout",
     "output_type": "stream",
     "text": [
      "zone8: \n",
      "Downloading...\n"
     ]
    },
    {
     "name": "stderr",
     "output_type": "stream",
     "text": [
      "0it [00:00, ?it/s]\n"
     ]
    },
    {
     "name": "stdout",
     "output_type": "stream",
     "text": [
      "Unzipping...\n"
     ]
    },
    {
     "name": "stderr",
     "output_type": "stream",
     "text": [
      "  0%|          | 0/90 [00:00<?, ?it/s]\n"
     ]
    },
    {
     "name": "stdout",
     "output_type": "stream",
     "text": [
      "zone9: \n",
      "Downloading...\n"
     ]
    },
    {
     "name": "stderr",
     "output_type": "stream",
     "text": [
      "100%|██████████| 1/1 [00:05<00:00,  5.05s/it]\n"
     ]
    },
    {
     "name": "stdout",
     "output_type": "stream",
     "text": [
      "Unzipping...\n"
     ]
    },
    {
     "name": "stderr",
     "output_type": "stream",
     "text": [
      "  4%|▎         | 2/56 [00:00<00:02, 21.22it/s]\n"
     ]
    },
    {
     "name": "stdout",
     "output_type": "stream",
     "text": [
      "zone10: \n",
      "Downloading...\n"
     ]
    },
    {
     "name": "stderr",
     "output_type": "stream",
     "text": [
      "0it [00:00, ?it/s]\n"
     ]
    },
    {
     "name": "stdout",
     "output_type": "stream",
     "text": [
      "Unzipping...\n"
     ]
    },
    {
     "name": "stderr",
     "output_type": "stream",
     "text": [
      "  0%|          | 0/84 [00:00<?, ?it/s]\n"
     ]
    }
   ],
   "source": [
    "for k in dic_re:\n",
    "    getDEM(k, dic_re)\n"
   ]
  },
  {
   "cell_type": "code",
   "execution_count": 9,
   "metadata": {},
   "outputs": [
    {
     "name": "stdout",
     "output_type": "stream",
     "text": [
      "zone_3: \n",
      "Downloading...\n"
     ]
    },
    {
     "name": "stderr",
     "output_type": "stream",
     "text": [
      "100%|██████████| 119/119 [03:06<00:00,  1.57s/it]\n"
     ]
    },
    {
     "name": "stdout",
     "output_type": "stream",
     "text": [
      "Unzipping...\n"
     ]
    },
    {
     "name": "stderr",
     "output_type": "stream",
     "text": [
      " 49%|████▉     | 238/486 [00:08<00:09, 26.75it/s]\n"
     ]
    }
   ],
   "source": [
    "getDEM('zone_3')"
   ]
  },
  {
   "cell_type": "code",
   "execution_count": 4,
   "metadata": {},
   "outputs": [
    {
     "name": "stdout",
     "output_type": "stream",
     "text": [
      "zone_10: \n",
      "Downloading...\n"
     ]
    },
    {
     "name": "stderr",
     "output_type": "stream",
     "text": [
      "100%|██████████| 70/70 [06:31<00:00,  5.59s/it]\n"
     ]
    },
    {
     "name": "stdout",
     "output_type": "stream",
     "text": [
      "Unzipping...\n"
     ]
    },
    {
     "name": "stderr",
     "output_type": "stream",
     "text": [
      "100%|██████████| 140/140 [00:05<00:00, 23.91it/s]\n"
     ]
    },
    {
     "name": "stdout",
     "output_type": "stream",
     "text": [
      "zone_11: \n",
      "Downloading...\n"
     ]
    },
    {
     "name": "stderr",
     "output_type": "stream",
     "text": [
      "100%|██████████| 24/24 [01:34<00:00,  3.95s/it]\n"
     ]
    },
    {
     "name": "stdout",
     "output_type": "stream",
     "text": [
      "Unzipping...\n"
     ]
    },
    {
     "name": "stderr",
     "output_type": "stream",
     "text": [
      "100%|██████████| 48/48 [00:01<00:00, 24.40it/s]\n"
     ]
    }
   ],
   "source": [
    "for key in ['zone_10', 'zone_11']:\n",
    "    getDEM(key)\n"
   ]
  },
  {
   "cell_type": "code",
   "execution_count": 27,
   "metadata": {},
   "outputs": [
    {
     "name": "stdout",
     "output_type": "stream",
     "text": [
      "Downloading...\n"
     ]
    },
    {
     "name": "stderr",
     "output_type": "stream",
     "text": [
      "100%|██████████| 16/16 [00:34<00:00,  2.13s/it]\n"
     ]
    },
    {
     "name": "stdout",
     "output_type": "stream",
     "text": [
      "Unzipping...\n"
     ]
    },
    {
     "name": "stderr",
     "output_type": "stream",
     "text": [
      "100%|██████████| 32/32 [00:01<00:00, 20.98it/s]\n"
     ]
    }
   ],
   "source": [
    "getDEM('zone_6')"
   ]
  },
  {
   "cell_type": "code",
   "execution_count": 13,
   "metadata": {},
   "outputs": [
    {
     "data": {
      "text/plain": [
       "32"
      ]
     },
     "execution_count": 13,
     "metadata": {},
     "output_type": "execute_result"
    }
   ],
   "source": [
    "len(os.listdir(path_local))"
   ]
  },
  {
   "cell_type": "code",
   "execution_count": null,
   "metadata": {},
   "outputs": [],
   "source": [
    "zone_1 = [\n",
    "    '05EZ1',\n",
    "    '05EZ2',\n",
    "    '05FZ1',\n",
    "    '05FZ2',\n",
    "    '06AZ1',\n",
    "    '06ZA2',\n",
    "    '06BZ2',\n",
    "    '06EZ1',\n",
    "    '06EZ2',\n",
    "    '06FZ1',\n",
    "    '06FZ2',\n",
    "    '05GN1',\n",
    "    '05GN2',\n",
    "    '05HN1',\n",
    "]\n"
   ]
  },
  {
   "cell_type": "code",
   "execution_count": 6,
   "metadata": {},
   "outputs": [],
   "source": [
    "file_path = 'data/'"
   ]
  },
  {
   "cell_type": "code",
   "execution_count": 5,
   "metadata": {},
   "outputs": [
    {
     "data": {
      "text/html": [
       "<div>\n",
       "<style scoped>\n",
       "    .dataframe tbody tr th:only-of-type {\n",
       "        vertical-align: middle;\n",
       "    }\n",
       "\n",
       "    .dataframe tbody tr th {\n",
       "        vertical-align: top;\n",
       "    }\n",
       "\n",
       "    .dataframe thead th {\n",
       "        text-align: right;\n",
       "    }\n",
       "</style>\n",
       "<table border=\"1\" class=\"dataframe\">\n",
       "  <thead>\n",
       "    <tr style=\"text-align: right;\">\n",
       "      <th></th>\n",
       "      <th>Unnamed: 0</th>\n",
       "    </tr>\n",
       "  </thead>\n",
       "  <tbody>\n",
       "    <tr>\n",
       "      <th>0</th>\n",
       "      <td>1</td>\n",
       "    </tr>\n",
       "    <tr>\n",
       "      <th>1</th>\n",
       "      <td>2</td>\n",
       "    </tr>\n",
       "    <tr>\n",
       "      <th>2</th>\n",
       "      <td>3</td>\n",
       "    </tr>\n",
       "    <tr>\n",
       "      <th>3</th>\n",
       "      <td>4</td>\n",
       "    </tr>\n",
       "    <tr>\n",
       "      <th>4</th>\n",
       "      <td>5</td>\n",
       "    </tr>\n",
       "    <tr>\n",
       "      <th>...</th>\n",
       "      <td>...</td>\n",
       "    </tr>\n",
       "    <tr>\n",
       "      <th>1005</th>\n",
       "      <td>1006</td>\n",
       "    </tr>\n",
       "    <tr>\n",
       "      <th>1006</th>\n",
       "      <td>1007</td>\n",
       "    </tr>\n",
       "    <tr>\n",
       "      <th>1007</th>\n",
       "      <td>1008</td>\n",
       "    </tr>\n",
       "    <tr>\n",
       "      <th>1008</th>\n",
       "      <td>1009</td>\n",
       "    </tr>\n",
       "    <tr>\n",
       "      <th>1009</th>\n",
       "      <td>1010</td>\n",
       "    </tr>\n",
       "  </tbody>\n",
       "</table>\n",
       "<p>1010 rows × 1 columns</p>\n",
       "</div>"
      ],
      "text/plain": [
       "     Unnamed: 0\n",
       "0             1\n",
       "1             2\n",
       "2             3\n",
       "3             4\n",
       "4             5\n",
       "...         ...\n",
       "1005       1006\n",
       "1006       1007\n",
       "1007       1008\n",
       "1008       1009\n",
       "1009       1010\n",
       "\n",
       "[1010 rows x 1 columns]"
      ]
     },
     "execution_count": 5,
     "metadata": {},
     "output_type": "execute_result"
    }
   ],
   "source": [
    "table_list = pd.read_csv('data/arcgis_num.csv')\n",
    "table_list = table_list.drop('Unnamed: 1', axis='columns')\n",
    "table_list = table_list.dropna()\n",
    "table_list = table_list.reset_index(drop=True)\n",
    "\n",
    "table_list"
   ]
  },
  {
   "cell_type": "code",
   "execution_count": 8,
   "metadata": {},
   "outputs": [
    {
     "data": {
      "text/html": [
       "<div>\n",
       "<style scoped>\n",
       "    .dataframe tbody tr th:only-of-type {\n",
       "        vertical-align: middle;\n",
       "    }\n",
       "\n",
       "    .dataframe tbody tr th {\n",
       "        vertical-align: top;\n",
       "    }\n",
       "\n",
       "    .dataframe thead th {\n",
       "        text-align: right;\n",
       "    }\n",
       "</style>\n",
       "<table border=\"1\" class=\"dataframe\">\n",
       "  <thead>\n",
       "    <tr style=\"text-align: right;\">\n",
       "      <th></th>\n",
       "      <th>Unnamed: 0</th>\n",
       "    </tr>\n",
       "  </thead>\n",
       "  <tbody>\n",
       "    <tr>\n",
       "      <th>0</th>\n",
       "      <td>Name</td>\n",
       "    </tr>\n",
       "    <tr>\n",
       "      <th>1</th>\n",
       "      <td>01GN1</td>\n",
       "    </tr>\n",
       "    <tr>\n",
       "      <th>2</th>\n",
       "      <td>01GN2</td>\n",
       "    </tr>\n",
       "    <tr>\n",
       "      <th>3</th>\n",
       "      <td>01GZ1</td>\n",
       "    </tr>\n",
       "    <tr>\n",
       "      <th>4</th>\n",
       "      <td>01GZ2</td>\n",
       "    </tr>\n",
       "    <tr>\n",
       "      <th>...</th>\n",
       "      <td>...</td>\n",
       "    </tr>\n",
       "    <tr>\n",
       "      <th>975</th>\n",
       "      <td>69FN1</td>\n",
       "    </tr>\n",
       "    <tr>\n",
       "      <th>976</th>\n",
       "      <td>69FZ1</td>\n",
       "    </tr>\n",
       "    <tr>\n",
       "      <th>977</th>\n",
       "      <td>69GN1</td>\n",
       "    </tr>\n",
       "    <tr>\n",
       "      <th>978</th>\n",
       "      <td>69GN2</td>\n",
       "    </tr>\n",
       "    <tr>\n",
       "      <th>979</th>\n",
       "      <td>69HN1</td>\n",
       "    </tr>\n",
       "  </tbody>\n",
       "</table>\n",
       "<p>980 rows × 1 columns</p>\n",
       "</div>"
      ],
      "text/plain": [
       "    Unnamed: 0\n",
       "0         Name\n",
       "1        01GN1\n",
       "2        01GN2\n",
       "3        01GZ1\n",
       "4        01GZ2\n",
       "..         ...\n",
       "975      69FN1\n",
       "976      69FZ1\n",
       "977      69GN1\n",
       "978      69GN2\n",
       "979      69HN1\n",
       "\n",
       "[980 rows x 1 columns]"
      ]
     },
     "execution_count": 8,
     "metadata": {},
     "output_type": "execute_result"
    }
   ],
   "source": [
    "table_list_ = pd.read_csv('data/arcgis_names.csv')\n",
    "table_list_ = table_list_.drop('Unnamed: 1', axis='columns')\n",
    "table_list_ = table_list_.dropna()\n",
    "table_list_ = table_list_.reset_index(drop=True)\n",
    "\n",
    "table_list_"
   ]
  },
  {
   "cell_type": "code",
   "execution_count": 23,
   "metadata": {},
   "outputs": [],
   "source": [
    "table_list = pd.read_csv('data/arcgis_names.csv')"
   ]
  },
  {
   "cell_type": "code",
   "execution_count": 26,
   "metadata": {},
   "outputs": [],
   "source": [
    "table_list = table_list.drop('Unnamed: 1', axis='columns')"
   ]
  },
  {
   "cell_type": "code",
   "execution_count": 28,
   "metadata": {},
   "outputs": [
    {
     "data": {
      "text/html": [
       "<div>\n",
       "<style scoped>\n",
       "    .dataframe tbody tr th:only-of-type {\n",
       "        vertical-align: middle;\n",
       "    }\n",
       "\n",
       "    .dataframe tbody tr th {\n",
       "        vertical-align: top;\n",
       "    }\n",
       "\n",
       "    .dataframe thead th {\n",
       "        text-align: right;\n",
       "    }\n",
       "</style>\n",
       "<table border=\"1\" class=\"dataframe\">\n",
       "  <thead>\n",
       "    <tr style=\"text-align: right;\">\n",
       "      <th></th>\n",
       "      <th>Unnamed: 0</th>\n",
       "    </tr>\n",
       "  </thead>\n",
       "  <tbody>\n",
       "    <tr>\n",
       "      <th>0</th>\n",
       "      <td>Name</td>\n",
       "    </tr>\n",
       "    <tr>\n",
       "      <th>1</th>\n",
       "      <td>01GN1</td>\n",
       "    </tr>\n",
       "    <tr>\n",
       "      <th>2</th>\n",
       "      <td>01GN2</td>\n",
       "    </tr>\n",
       "    <tr>\n",
       "      <th>3</th>\n",
       "      <td>01GZ1</td>\n",
       "    </tr>\n",
       "    <tr>\n",
       "      <th>4</th>\n",
       "      <td>01GZ2</td>\n",
       "    </tr>\n",
       "    <tr>\n",
       "      <th>...</th>\n",
       "      <td>...</td>\n",
       "    </tr>\n",
       "    <tr>\n",
       "      <th>975</th>\n",
       "      <td>69FN1</td>\n",
       "    </tr>\n",
       "    <tr>\n",
       "      <th>976</th>\n",
       "      <td>69FZ1</td>\n",
       "    </tr>\n",
       "    <tr>\n",
       "      <th>977</th>\n",
       "      <td>69GN1</td>\n",
       "    </tr>\n",
       "    <tr>\n",
       "      <th>978</th>\n",
       "      <td>69GN2</td>\n",
       "    </tr>\n",
       "    <tr>\n",
       "      <th>979</th>\n",
       "      <td>69HN1</td>\n",
       "    </tr>\n",
       "  </tbody>\n",
       "</table>\n",
       "<p>980 rows × 1 columns</p>\n",
       "</div>"
      ],
      "text/plain": [
       "    Unnamed: 0\n",
       "0         Name\n",
       "1        01GN1\n",
       "2        01GN2\n",
       "3        01GZ1\n",
       "4        01GZ2\n",
       "..         ...\n",
       "975      69FN1\n",
       "976      69FZ1\n",
       "977      69GN1\n",
       "978      69GN2\n",
       "979      69HN1\n",
       "\n",
       "[980 rows x 1 columns]"
      ]
     },
     "execution_count": 28,
     "metadata": {},
     "output_type": "execute_result"
    }
   ],
   "source": [
    "table_list = table_list.dropna()\n",
    "table_list = table_list.reset_index(drop=True)\n",
    "table_list"
   ]
  },
  {
   "cell_type": "code",
   "execution_count": 14,
   "metadata": {},
   "outputs": [],
   "source": [
    "table_list = table_list.drop('Unnamed: 1', axis='columns')"
   ]
  },
  {
   "cell_type": "code",
   "execution_count": 15,
   "metadata": {},
   "outputs": [],
   "source": [
    "table_list = table_list.drop([0, 1, 2, 3, 4])\n"
   ]
  },
  {
   "cell_type": "code",
   "execution_count": 17,
   "metadata": {},
   "outputs": [],
   "source": [
    "table_list = table_list.dropna()"
   ]
  },
  {
   "cell_type": "code",
   "execution_count": 21,
   "metadata": {},
   "outputs": [
    {
     "data": {
      "text/html": [
       "<div>\n",
       "<style scoped>\n",
       "    .dataframe tbody tr th:only-of-type {\n",
       "        vertical-align: middle;\n",
       "    }\n",
       "\n",
       "    .dataframe tbody tr th {\n",
       "        vertical-align: top;\n",
       "    }\n",
       "\n",
       "    .dataframe thead th {\n",
       "        text-align: right;\n",
       "    }\n",
       "</style>\n",
       "<table border=\"1\" class=\"dataframe\">\n",
       "  <thead>\n",
       "    <tr style=\"text-align: right;\">\n",
       "      <th></th>\n",
       "      <th>Name</th>\n",
       "    </tr>\n",
       "  </thead>\n",
       "  <tbody>\n",
       "    <tr>\n",
       "      <th>0</th>\n",
       "      <td>01CZ1</td>\n",
       "    </tr>\n",
       "    <tr>\n",
       "      <th>1</th>\n",
       "      <td>https://ns_hwh.fundaments.nl/hwh-ahn/ahn4/02a_...</td>\n",
       "    </tr>\n",
       "    <tr>\n",
       "      <th>2</th>\n",
       "      <td>https://ns_hwh.fundaments.nl/hwh-ahn/ahn4/02b_...</td>\n",
       "    </tr>\n",
       "    <tr>\n",
       "      <th>3</th>\n",
       "      <td>https://ns_hwh.fundaments.nl/hwh-ahn/ahn4/03a_...</td>\n",
       "    </tr>\n",
       "    <tr>\n",
       "      <th>4</th>\n",
       "      <td>https://ns_hwh.fundaments.nl/hwh-ahn/ahn4/03b_...</td>\n",
       "    </tr>\n",
       "    <tr>\n",
       "      <th>...</th>\n",
       "      <td>...</td>\n",
       "    </tr>\n",
       "    <tr>\n",
       "      <th>4890</th>\n",
       "      <td>69HN1</td>\n",
       "    </tr>\n",
       "    <tr>\n",
       "      <th>4891</th>\n",
       "      <td>https://ns_hwh.fundaments.nl/hwh-ahn/ahn4/02a_...</td>\n",
       "    </tr>\n",
       "    <tr>\n",
       "      <th>4892</th>\n",
       "      <td>https://ns_hwh.fundaments.nl/hwh-ahn/ahn4/02b_...</td>\n",
       "    </tr>\n",
       "    <tr>\n",
       "      <th>4893</th>\n",
       "      <td>https://ns_hwh.fundaments.nl/hwh-ahn/ahn4/03a_...</td>\n",
       "    </tr>\n",
       "    <tr>\n",
       "      <th>4894</th>\n",
       "      <td>https://ns_hwh.fundaments.nl/hwh-ahn/ahn4/03b_...</td>\n",
       "    </tr>\n",
       "  </tbody>\n",
       "</table>\n",
       "<p>4895 rows × 1 columns</p>\n",
       "</div>"
      ],
      "text/plain": [
       "                                                   Name\n",
       "0                                                 01CZ1\n",
       "1     https://ns_hwh.fundaments.nl/hwh-ahn/ahn4/02a_...\n",
       "2     https://ns_hwh.fundaments.nl/hwh-ahn/ahn4/02b_...\n",
       "3     https://ns_hwh.fundaments.nl/hwh-ahn/ahn4/03a_...\n",
       "4     https://ns_hwh.fundaments.nl/hwh-ahn/ahn4/03b_...\n",
       "...                                                 ...\n",
       "4890                                              69HN1\n",
       "4891  https://ns_hwh.fundaments.nl/hwh-ahn/ahn4/02a_...\n",
       "4892  https://ns_hwh.fundaments.nl/hwh-ahn/ahn4/02b_...\n",
       "4893  https://ns_hwh.fundaments.nl/hwh-ahn/ahn4/03a_...\n",
       "4894  https://ns_hwh.fundaments.nl/hwh-ahn/ahn4/03b_...\n",
       "\n",
       "[4895 rows x 1 columns]"
      ]
     },
     "execution_count": 21,
     "metadata": {},
     "output_type": "execute_result"
    }
   ],
   "source": [
    "table_list.reset_index(drop=True)"
   ]
  },
  {
   "cell_type": "code",
   "execution_count": 22,
   "metadata": {},
   "outputs": [
    {
     "data": {
      "text/plain": [
       "979.0"
      ]
     },
     "execution_count": 22,
     "metadata": {},
     "output_type": "execute_result"
    }
   ],
   "source": []
  },
  {
   "cell_type": "code",
   "execution_count": 9,
   "metadata": {},
   "outputs": [
    {
     "data": {
      "text/html": [
       "<div>\n",
       "<style scoped>\n",
       "    .dataframe tbody tr th:only-of-type {\n",
       "        vertical-align: middle;\n",
       "    }\n",
       "\n",
       "    .dataframe tbody tr th {\n",
       "        vertical-align: top;\n",
       "    }\n",
       "\n",
       "    .dataframe thead th {\n",
       "        text-align: right;\n",
       "    }\n",
       "</style>\n",
       "<table border=\"1\" class=\"dataframe\">\n",
       "  <thead>\n",
       "    <tr style=\"text-align: right;\">\n",
       "      <th></th>\n",
       "      <th>Name</th>\n",
       "      <th>AHN4_DTM_05m</th>\n",
       "      <th>AHN4_DTM_5m</th>\n",
       "      <th>AHN4_DSM_05m</th>\n",
       "      <th>AHN4_DSM_5m</th>\n",
       "    </tr>\n",
       "  </thead>\n",
       "  <tbody>\n",
       "  </tbody>\n",
       "</table>\n",
       "</div>"
      ],
      "text/plain": [
       "Empty DataFrame\n",
       "Columns: [Name, AHN4_DTM_05m, AHN4_DTM_5m, AHN4_DSM_05m, AHN4_DSM_5m]\n",
       "Index: []"
      ]
     },
     "execution_count": 9,
     "metadata": {},
     "output_type": "execute_result"
    }
   ],
   "source": [
    "data = {\n",
    "    'Name': [],\n",
    "    'AHN4_DTM_05m': [],\n",
    "    'AHN4_DTM_5m': [],\n",
    "    'AHN4_DSM_05m': [],\n",
    "    'AHN4_DSM_5m': []\n",
    "}\n",
    "\n",
    "df = pd.DataFrame(data)\n",
    "df"
   ]
  }
 ],
 "metadata": {
  "kernelspec": {
   "display_name": "Python 3.9.12 ('pytorch')",
   "language": "python",
   "name": "python3"
  },
  "language_info": {
   "codemirror_mode": {
    "name": "ipython",
    "version": 3
   },
   "file_extension": ".py",
   "mimetype": "text/x-python",
   "name": "python",
   "nbconvert_exporter": "python",
   "pygments_lexer": "ipython3",
   "version": "3.9.12"
  },
  "orig_nbformat": 4,
  "vscode": {
   "interpreter": {
    "hash": "8af92737554b8d7e77b438513b3bb470b0fcb31762f2300d530491e7c048b893"
   }
  }
 },
 "nbformat": 4,
 "nbformat_minor": 2
}
